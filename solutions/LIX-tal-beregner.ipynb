{
 "cells": [
  {
   "cell_type": "code",
   "execution_count": 1,
   "id": "e466742e",
   "metadata": {},
   "outputs": [],
   "source": [
    "def lix(tekst):\n",
    "    a = tekst.split() # vi konstruerer liste over ord i teksten ved at splitte på mellemrum\n",
    "    O = len(a) # O (store O) er antallet af ord i teksten\n",
    "    P = tekst.count(\".\") + tekst.count(\"?\")+ tekst.count(\"!\") # antallet af punktummer, spørgsmålstegn og udråbstegn i teksten\n",
    "    c = tekst.replace(\".\", \"\")\n",
    "    c = c.replace(\"!\", \"\")\n",
    "    c = c.replace(\"?\", \"\")\n",
    "    c = c.split()\n",
    "    \n",
    "    L = 0\n",
    "    for ord in c:\n",
    "        if len(ord)>6:\n",
    "            L = L +1\n",
    "    \n",
    "    print(\"Lix-tallet er\", O/P + (L*100)/O)"
   ]
  },
  {
   "cell_type": "code",
   "execution_count": 2,
   "id": "408389cd",
   "metadata": {},
   "outputs": [
    {
     "name": "stdout",
     "output_type": "stream",
     "text": [
      "Lix-tallet er 76.66666666666666\n"
     ]
    }
   ],
   "source": [
    "# Uddrag fra gymnasiebekendtgørelsen:\n",
    "tekst = \"\"\"\n",
    "Uddannelserne og institutionskulturen som helhed skal forberede eleverne til medbestemmelse, medansvar, rettigheder og pligter i et samfund med frihed og folkestyre. Undervisningen og hele institutionens dagligliv må derfor bygge på åndsfrihed, ligeværd og demokrati og styrke elevernes kendskab til og respekt for grundlæggende friheds- og menneskerettigheder, herunder ligestilling mellem kønnene. Eleverne skal derigennem opnå forudsætninger for aktiv medvirken i et demokratisk samfund og forståelse for mulighederne for individuelt og i fællesskab at bidrage til udvikling og forandring samt forståelse af såvel det nære som det europæiske og det globale perspektiv.\n",
    "\"\"\"\n",
    "\n",
    "lix(tekst)"
   ]
  }
 ],
 "metadata": {
  "kernelspec": {
   "display_name": "Python 3",
   "language": "python",
   "name": "python3"
  },
  "language_info": {
   "codemirror_mode": {
    "name": "ipython",
    "version": 3
   },
   "file_extension": ".py",
   "mimetype": "text/x-python",
   "name": "python",
   "nbconvert_exporter": "python",
   "pygments_lexer": "ipython3",
   "version": "3.8.8"
  }
 },
 "nbformat": 4,
 "nbformat_minor": 5
}
