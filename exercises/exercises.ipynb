{
    "cells": [
        {
            "cell_type": "markdown",
            "source": [
                "# Opgave 1 (*)\r\n",
                "Lixtallet er et udtryk for en teksts læsbarhed. Formlen til at beregne\r\n",
                "LIX-tallet er givet ved\r\n",
                "$\\text{LIX} = \\frac{O}{P}+\\frac{L\\cdot 100}{O}$ hvor $O$ er antal ord\r\n",
                "i teksten, $P$ er antal punktummer i teksten og $L$ antal lange ord\r\n",
                "(over 6 bogstaver lange).\r\n",
                "\r\n",
                "Formlen kan altså forstås som antal ord per mellem hvert punktum lagt\r\n",
                "sammen med procentdelen af de lange ord i teksten. Man har så følgende\r\n",
                "skala til at vurdere LIX-tallet med:\r\n",
                "-   $\\text{LIX}\\geq 55$: Meget svær, faglitteratur på akademisk niveau,\r\n",
                "    lovtekster.\r\n",
                "\r\n",
                "-   $45\\leq\\text{LIX}< 55$: Svær, f.eks. saglige bøger,\r\n",
                "    populærvidenskabelige værker, akademiske udgivelser.\r\n",
                "\r\n",
                "-   $35\\leq\\text{LIX}< 45$: Middel, f.eks. dagblade og tidsskrifter.\r\n",
                "\r\n",
                "-   $25\\leq\\text{LIX}< 35$: Let for øvede læsere, f.eks.\r\n",
                "    ugebladslitteratur og skønlitteratur for voksne.\r\n",
                "\r\n",
                "-   $\\text{LIX}<25$: Let tekst for alle læsere, f.eks. børnelitteratur.\r\n",
                "\r\n",
                "1.  Lav et program, der bestemmer Lix-tallet af en tekststreng.\r\n",
                "    Programmet skal fortælle hvilket niveau teksten ligger på. Antag at\r\n",
                "    du får teksten i en string-variable.\r\n",
                "\r\n",
                "2.  Benyt din LIX-beregner på en tekst du skrev i folkeskolen og en\r\n",
                "    tekst, du har skrevet i gymnasiet (det kunne f.eks. være en dansk\r\n",
                "    stil)."
            ],
            "metadata": {}
        },
        {
            "cell_type": "markdown",
            "source": [
                "# Opgave 2 (*)\r\n",
                "Skriv et program der konstruerer 3 tekst variabler, som rummer teksterne\r\n",
                "“Der var engang”, “ en mand som” og “boede i en spand. Spanden var af\r\n",
                "ler”.\r\n",
                "\r\n",
                "-   Sammenkæd de tre tekststrenge via variablerne\r\n",
                "\r\n",
                "-   Bestem længden af hver af dem.\r\n",
                "\r\n",
                "-   Undersøg det andet bogstav i hver af dem\r\n",
                "\r\n",
                "-   Undersøg om to af variablerne er det samme\r\n",
                "\r\n",
                "-   Skriv hele teksten som versaler\r\n",
                "\r\n",
                "-   Lav en ny variable der er en delstreng af en af variablerne.\r\n",
                "\r\n",
                "-   Sammenflet de tre variabler så det første bog stav er fra den første\r\n",
                "    variable, den anden fra den anden osv.\r\n",
                "\r\n",
                "-   Undersøg hvor mange forekomster af e der er i teksten."
            ],
            "metadata": {}
        },
        {
            "cell_type": "markdown",
            "source": [
                "# Opgave 3 (*)\r\n",
                "Skriv et program, der generer multiplikationstabellen fra 1 til 10."
            ],
            "metadata": {}
        },
        {
            "cell_type": "markdown",
            "source": [
                "# Opgave 4 (*)\r\n",
                "Skriv et program, der finder det mindste hele tal n så n\\*n er større\r\n",
                "end 12000. Skriv dernæst et program, der finder det største hele tal n,\r\n",
                "så n\\*n\\*n er mindre 12000."
            ],
            "metadata": {}
        },
        {
            "cell_type": "markdown",
            "source": [
                "# Opgave 5 (*)\r\n",
                "1.  Lav en Basal Metabolic Rate (BMR) beregner, der fortæller hvor meget\r\n",
                "    energi du forbrænder i hviletilstand i løbet af en dag (kalorier).\r\n",
                "    Input er hvorvidt du er mand eller kvinder samt vægt, alder og\r\n",
                "    aktivitetsniveau. Formlen (kendt som Harris–Benedicts ligninger) og\r\n",
                "    er givet ved:\r\n",
                "\r\n",
                "    $$\\begin{aligned}\r\n",
                "      \\text{BMR} &= 10\\cdot (\\text{vægt i kg}) + 6,25\\cdot(\\text{højde i cm})-5\\cdot(\\text{alder i år}) +5 & & \\text{(mænd)}\\\\\r\n",
                "        \\text{BMR} &= 10\\cdot (\\text{vægt i kg}) + 6,25\\cdot(\\text{højde i cm})-5\\cdot(\\text{alder i år}) -161 & & \\text{(kvinder)}\\\\\\end{aligned}$$\r\n",
                "2.  En Big Mac rummer ca 500 kalorier. Lav en omregner, der regner i Bic Macs\r\n"
            ],
            "metadata": {}
        },
        {
            "cell_type": "markdown",
            "source": [
                "# Opgave 6 (**)\r\n",
                "1.  Undersøg om en given tekststreng (string variable) udgør et validt\r\n",
                "    CPR-NR.\r\n",
                "\r\n",
                "2.  Skriv et program, der oplister alle CPR-numre. "
            ],
            "metadata": {}
        },
        {
            "cell_type": "markdown",
            "source": [
                "# Opgave 7 (*)\r\n",
                "\r\n",
                "1. Skriv et program, der finder alle de store bogstaver og små bogstaver i\r\n",
                "en streng.\r\n",
                "\r\n",
                "2. Skriv et program, der finder alle mellemrum\r\n",
                "\r\n",
                "3. Skriv et program, der undersøger hvor mange forskellige bogstaver to\r\n",
                "strenge har.\r\n",
                "\r\n",
                "4. Skriv et program, der erstatter alle bogstaver “i” med “k” i en streng.\r\n",
                "\r\n",
                "5. Skriv et program, der undersøger om en given delstreng er indeholdt i en\r\n",
                "anden streng"
            ],
            "metadata": {}
        },
        {
            "cell_type": "markdown",
            "source": [
                "# Opgave 8 (**)\r\n",
                "Givet to tekststrenge. Overvej forskellige måder til at undersøge om den\r\n",
                "ene er et plagiat af den anden."
            ],
            "metadata": {}
        },
        {
            "cell_type": "markdown",
            "source": [
                "# Opgave 9 (**)\r\n",
                "Skriv et program der generer et Haiku digt ud fra nogle fastsatte\r\n",
                "sætninger. Der er 17 stavelser i et Haiku digt fordelt på 5-7-5 i de tre\r\n",
                "linjer."
            ],
            "metadata": {}
        },
        {
            "cell_type": "markdown",
            "source": [
                "# Opgave 10 (*)\r\n",
                "Lav et tekstbaseret “sten-saks-papir”-spil.\r\n",
                "\r\n",
                "# Opgave 11 (*)\r\n",
                "Lav et tekstbaseret “Hang-man” spil\r\n",
                "\r\n",
                "# Opgave 12 (*)\r\n",
                "Lav et program, der undersøger om et givent password er et sikkert\r\n",
                "    password. Ved sikkert forstås, at det skal være minimum 8 bogstaver\r\n",
                "    langt samt indeholde både et stort og lille bogstav samt et tal. Du\r\n",
                "    må gerne udvide kriterierne.\r\n",
                "\r\n",
                "# Opgave 13 (*)\r\n",
                "1.  Lav et program der omregner fra grader til radianer eller omvendt.\r\n",
                "    Hint: $2\\cdot\\pi$ radianer svarer til 360 grader.\r\n",
                "\r\n",
                "2.  Givet en retvinkel trekant. Lav en trekantsberegner, der bestemmer\r\n",
                "    alle sider og vinkler i trekanten. Brug gerne matematikpakken i\r\n",
                "    Python:\r\n",
                "\r\n",
                "    ``` {.python language=\"Python\"}\r\n",
                "        import math as m\r\n",
                "        print(m.cos(m.pi)) # udskriver -1.0. Hvorfor mon?\r\n",
                "    ```\r\n",
                "# Opgave 14 (**)\r\n",
                "Tilnærmelse af tallet kan gøres ved følgende formel\r\n",
                "$$\\pi = 3 + \\frac{4}{2\\cdot 3\\cdot 4}-\\frac{4}{4\\cdot 5\\cdot 6}+\\frac{4}{6\\cdot 7\\cdot 8}-\\ldots$$\r\n",
                "\r\n",
                "1.  Lav et program, der beregner en tilnærmelse af $\\pi$, hvor input er\r\n",
                "    antallet af brøkled i formlen.\r\n",
                "\r\n",
                "# Opgave 15 (*)\r\n",
                "1.  Lav et program, der finder alle a’er i en tekststreng.\r\n",
                "\r\n",
                "# Opgave 16 (*)\r\n",
                "1.  Undersøg om en tekststreng er et palindrom. Dvs. om tekststrengen\r\n",
                "    læses og skrives på samme måde forfra og bagfra.\r\n",
                "\r\n",
                "# Opgave 17 (*)\r\n",
                "1.  Konstruér et program der løser ligninger på formen $ax+b=c$. Input\r\n",
                "    er tallene $a,b$ og $c$."
            ],
            "metadata": {}
        },
        {
            "cell_type": "markdown",
            "source": [
                "# Opgave 18 (*)\r\n",
                "Skriv et program, der fylder en liste med heltal i en tilfældig række. Bestem selv hvilke.\r\n",
                "1. Sorter listen.\r\n",
                "2. Byt om på rækkefølgen af tal når den er sorteret\r\n",
                "3. Indsæt et element midt i listen\r\n",
                "4. Udvid programmet så du kan tilføje et element til listen ved brug af input fra brugeren\r\n",
                "\r\n",
                "# Opgave 19 (*)\r\n",
                "Skriv et program, der tager en tekststreng indlæst i en variable. Teksten skal bestå af mindst\r\n",
                "100 ord og split ordene op i en liste ved brug af split-funktionen.\r\n",
                "1. Tæl antallet af kommaer og punktummer\r\n",
                "2. Find det ord der forekommer flest gange\r\n",
                "3. Lav en liste der viser hvor mange gange hvert ord forekommmer\r\n",
                "\r\n",
                "# Opgave 20 (*)\r\n",
                "Skriv et program der kan bruges til Lotto, hvor der genereres 7 tilfældige tal. De skal være\r\n",
                "forskellige (mellem 1 og 40) og returneres i stigende rækkefølge.\r\n",
                "\r\n",
                "# Opgave 21 (*)\r\n",
                "Skriv en funktion, der undersøger om en given delliste af tal er indeholdt i en liste af tal. Dellisten\r\n",
                "skal optræde fra start til slut i listen. Dvs. [2,3] er en delliste af [1,2,3,4] men [1,4] er ikke.\r\n",
                "\r\n"
            ],
            "metadata": {}
        },
        {
            "cell_type": "markdown",
            "source": [
                "# Opgave 22 (**)\r\n",
                "Betragt følgende dictionary nedenfor.\r\n",
                "1. Gennemløb løn og udskriv navn og løn for hver person på en linje for sig.\r\n",
                "2. Undersøg om \"Bente\"findes i løn.\r\n",
                "3. Hent og udskriv kun nøgler af løn.\r\n",
                "4. Hent og udskriv kun værdierne af løn.\r\n",
                "5. Bestem gennemsnitslønnen.\r\n",
                "6. Bestem den hyppigst forekomne lønindkomst.\r\n",
                "7. Bestem mindste- og størstelønnen i løn.\r\n",
                "8. Undersøg programmatisk om der findes flere personer med samme løn.\r\n"
            ],
            "metadata": {}
        },
        {
            "cell_type": "code",
            "execution_count": null,
            "source": [
                "løn={’Niels’:85000,’Peter’:40000,’Jakob’:90000,’Poul’:100000,’Dorte’:40000}"
            ],
            "outputs": [],
            "metadata": {}
        },
        {
            "cell_type": "markdown",
            "source": [
                "# Opgave 23 (**)\r\n",
                "\r\n",
                "Skriv et program, der på baggrund af en tekst, konstruerer en dictionary kaldt bogstav, så\r\n",
                "f.eks. bogstav[’a’] er lig med antallet af a’er i teksten, bogstav[’b’] er lig med antallet af\r\n",
                "b’er osv.\r\n"
            ],
            "metadata": {}
        },
        {
            "cell_type": "markdown",
            "source": [
                "# Opgave 24 (**)\r\n",
                "Skriv et program der bruger en dictionary til at rumme en filmdatabase. Dictionary skal rumme\r\n",
                "filmens titel, produktionsår, og instruktør samt en genre.\r\n",
                "Du afgør selv strukturen.\r\n",
                "1. Lav en funktion der afgør om en given film eksisterer i biblioteket fra forrige opgave.\r\n",
                "2. Lav en funktion der sletter en given film fra databasen\r\n",
                "3. Lav en funktion der tilføjer en ny film til databasen.\r\n",
                "4. Lav en funktion der opdaterer en egenskab ved en film. Dvs. instruktør, titel, genre eller\r\n",
                "produktionsår."
            ],
            "metadata": {}
        },
        {
            "cell_type": "markdown",
            "source": [
                "# Opgave 25 (***)\r\n",
                "1. Skriv et program, der sorterer en liste af tal vha. bubblesort-algoritmen.\r\n",
                "2. Skriv et program, der sorterer en liste af tal vha. mergesort-algoritmen.\r\n",
                "3. Afprøv dine sorteringsalgoritmer på lister med mange tusinde tal. Hvilken en af algoritmerne\r\n",
                "er mon hurtigst?\r\n"
            ],
            "metadata": {}
        },
        {
            "cell_type": "markdown",
            "source": [
                "# Opgave 26 (**)\r\n",
                "\r\n",
                "1. Skriv et program der afgør om et givent tal er et primtal.\r\n",
                "2. Undersøg hvad der er det største primtal, som går op i tallet 600851475143"
            ],
            "metadata": {}
        },
        {
            "cell_type": "markdown",
            "source": [
                "# Opgave 27 (**)\r\n",
                "Lav et af følgende brætspil\r\n",
                "1.  Kryds og bolle.\r\n",
                "\r\n",
                "2.  ”Fire-på-stribe”."
            ],
            "metadata": {}
        },
        {
            "cell_type": "markdown",
            "source": [
                "# Opgave 28 (***)\r\n",
                "\r\n",
                "TILLYKKE! Du er blevet ansat som ledende data-analytiker i firmaet DataSukkertop, som skal udvikle software til analyse af sociale medier.\r\n",
                "DataSukkertop tror meget på at udvikle alting fra bunden, så det første du skal gøre er at udvikle en simpel prototype på et dataanalyse værktøj i et selvvalgt programmeringssprog.\r\n",
                "VELKOMMEN ombord og held og lykke. Du må have jeans på om fredagen og toillettet er nede for enden af gangen til højre :-).\r\n",
                "\r\n",
                "1.\tStart med at lave en selvvalgt datastruktur (såsom en dictionary, flerdimensionelt array, lister af objekter etc), som kan håndtere følgende navne med unikke id. Herunder er et eksempel på hvordan det kunne gøres vha dictionaries:\r\n",
                "\r\n",
                "```\r\n",
                "brugere = [\r\n",
                "    {\"id\":0, \"name\": \"Henrik\"},\r\n",
                "    {\"id\":1, \"name\": \"Peter\"},\r\n",
                "    {\"id\":2, \"name\": \"Jakob\"},\r\n",
                "    {\"id\":3, \"name\": \"Lukas\"}\r\n",
                "]\r\n",
                "```\r\n",
                "Udvid selv dictionary med mindst 10 venner.\r\n",
                " \r\n",
                "2.\tFølgende array illustrerer vennerelationerne mellem de enkelte personer fra punkt 1 (f.eks. er 0 og 1 venner). \r\n",
                "```\r\n",
                "venner = [(0,1),(0,3),(1,2)]\r\n",
                "```\r\n",
                "Udvid med flere vennerelationer. Prøv at omsætte array til et dictionary.\r\n",
                "\r\n",
                "3.\tSkriv noget kode der finder det samlede antal relationer\r\n",
                "\r\n",
                "4.\tFind det gennemsnitlige antal relationer\r\n",
                "\r\n",
                "5.\tDin chef vil gerne have tilføjet en funktion “Folk du måske kender”. F.eks. i punkt 2. ses, at 0 har både 1 og 2, som venner. Det betyder, at der måske er en chance for at 1 og 2 og så kender i hinanden. Hvordan ville du gøre det?\r\n",
                "\r\n",
                "6. Overvej noget kode der giver dig et bud på venner som en id måske kender.\r\n",
                "\r\n",
                "7.\tYdermere vil din chef gerne have visualiseret vennerelationer i en graf, hvor id udgør knuder og vennerelationer er streger fra knude til knude. Har du forslag til hvordan man kunne gøre det? Brug gerne pyp5.js eller lignende til at visualisere.\r\n",
                "\r\n",
                "8. Nu udvides det sociale medie med interesser ala følgende:\r\n",
                "\r\n",
                "```\r\n",
                "interesser=[\r\n",
                "    (0,\"Film\"),(0,\"Bøger\"),(1,\"Film\"),(2,\"Bøger\"),(3,\"Film\"),(3,\"Sport\"),\r\n",
                "    ]\r\n",
                "```\r\n",
                "Skriv en funktion, der givet en interesse returnerer id'er som har den interesse.\r\n",
                "\r\n",
                "9. Skriv en funktion, der givet en bruger-id finder en anden bruger som har flest af de samme interesser.\r\n"
            ],
            "metadata": {}
        },
        {
            "cell_type": "markdown",
            "source": [
                "# Opgave 29 (***)\r\n",
                "\r\n",
                "Et klassisk problem indenfor naturlig sprog processering handler om at undersøge hvor negativt eller positivt ladet en given sætning er. I skal i det følgende prøve at lave en primitiv algoritme, der returner et tal mellem 0 og 1 som indikerer om sætningen er positivt, neutral eller negativ.\r\n",
                "Vi afprøver jeres algoritme på Trumps twitter data: http://www.trumptwitterarchive.com/\r\n"
            ],
            "metadata": {}
        },
        {
            "cell_type": "markdown",
            "source": [
                "# Opgave 30 (***)\r\n",
                "I skal her lave en algoritme, som tæller de x mest forekomne ord i en tekst og viser dem på skærmen. Vi bruger Trumps twitter arkiv igen"
            ],
            "metadata": {}
        },
        {
            "cell_type": "markdown",
            "source": [
                "# Opgave 31 (***)\r\n",
                "\r\n",
                "Benfords lov eller princip fortæller noget om hvilke tal, der hyppigst vil forekomme, ofte i lister fra dagligdagen, såsom husnumre, priser, indbyggertal, længder på floder, aktiekurser etc.\r\n",
                "Formlen er givet ved: $$P(d)=\\log(d+1)-\\log(d),$$ hvor P er sandsynligheden for at det ledende tal er d og log er 10-tals logaritmen.\r\n",
                "\r\n",
                "Skriv et program der kan teste Benfords lov for forskellige data. Prøv af på forskellige datasæt. Eksempelvis indbyggertal i byerne i Danmark (se https://www.bolius.dk/de-stoerste-byer-i-danmark-27946) eller ordskyen I lavede i opgave d.  \r\n"
            ],
            "metadata": {}
        }
    ],
    "metadata": {
        "orig_nbformat": 4,
        "language_info": {
            "name": "python",
            "version": "3.8.8",
            "mimetype": "text/x-python",
            "codemirror_mode": {
                "name": "ipython",
                "version": 3
            },
            "pygments_lexer": "ipython3",
            "nbconvert_exporter": "python",
            "file_extension": ".py"
        },
        "kernelspec": {
            "name": "python3",
            "display_name": "Python 3.8.8 64-bit ('base': conda)"
        },
        "interpreter": {
            "hash": "ce60f34a948200a2cfbca3c4a9bee46e7c34f26b258b4fab0bda251575f8f284"
        }
    },
    "nbformat": 4,
    "nbformat_minor": 2
}