{
    "cells": [
        {
            "cell_type": "markdown",
            "metadata": {},
            "source": [
                "# Opgave 1 (*)\n",
                "Lixtallet er et udtryk for en teksts læsbarhed. Formlen til at beregne\n",
                "LIX-tallet er givet ved\n",
                "$\\text{LIX} = \\frac{O}{P}+\\frac{L\\cdot 100}{O}$ hvor $O$ er antal ord\n",
                "i teksten, $P$ er antal punktummer i teksten og $L$ antal lange ord\n",
                "(over 6 bogstaver lange).\n",
                "\n",
                "Formlen kan altså forstås som antal ord per mellem hvert punktum lagt\n",
                "sammen med procentdelen af de lange ord i teksten. Man har så følgende\n",
                "skala til at vurdere LIX-tallet med:\n",
                "-   $\\text{LIX}\\geq 55$: Meget svær, faglitteratur på akademisk niveau,\n",
                "    lovtekster.\n",
                "\n",
                "-   $45\\leq\\text{LIX}< 55$: Svær, f.eks. saglige bøger,\n",
                "    populærvidenskabelige værker, akademiske udgivelser.\n",
                "\n",
                "-   $35\\leq\\text{LIX}< 45$: Middel, f.eks. dagblade og tidsskrifter.\n",
                "\n",
                "-   $25\\leq\\text{LIX}< 35$: Let for øvede læsere, f.eks.\n",
                "    ugebladslitteratur og skønlitteratur for voksne.\n",
                "\n",
                "-   $\\text{LIX}<25$: Let tekst for alle læsere, f.eks. børnelitteratur.\n",
                "\n",
                "1.  Lav et program, der bestemmer Lix-tallet af en tekststreng.\n",
                "    Programmet skal fortælle hvilket niveau teksten ligger på. Antag at\n",
                "    du får teksten i en string-variable.\n",
                "\n",
                "2.  Benyt din LIX-beregner på en tekst du skrev i folkeskolen og en\n",
                "    tekst, du har skrevet i gymnasiet (det kunne f.eks. være en dansk\n",
                "    stil)."
            ]
        },
        {
            "cell_type": "markdown",
            "metadata": {},
            "source": [
                "# Opgave 2 (*)\n",
                "Skriv et program der konstruerer 3 tekst variabler, som rummer teksterne\n",
                "“Der var engang”, “ en mand som” og “boede i en spand. Spanden var af\n",
                "ler”.\n",
                "\n",
                "-   Sammenkæd de tre tekststrenge via variablerne\n",
                "\n",
                "-   Bestem længden af hver af dem.\n",
                "\n",
                "-   Undersøg det andet bogstav i hver af dem\n",
                "\n",
                "-   Undersøg om to af variablerne er det samme\n",
                "\n",
                "-   Skriv hele teksten som versaler\n",
                "\n",
                "-   Lav en ny variable der er en delstreng af en af variablerne.\n",
                "\n",
                "-   Sammenflet de tre variabler så det første bog stav er fra den første\n",
                "    variable, den anden fra den anden osv.\n",
                "\n",
                "-   Undersøg hvor mange forekomster af e der er i teksten."
            ]
        },
        {
            "cell_type": "markdown",
            "metadata": {},
            "source": [
                "# Opgave 3 (*)\n",
                "Skriv et program, der generer multiplikationstabellen fra 1 til 10."
            ]
        },
        {
            "cell_type": "markdown",
            "metadata": {},
            "source": [
                "# Opgave 4 (*)\n",
                "Skriv et program, der finder det mindste hele tal n så n\\*n er større\n",
                "end 12000. Skriv dernæst et program, der finder det største hele tal n,\n",
                "så n\\*n\\*n er mindre 12000."
            ]
        },
        {
            "cell_type": "markdown",
            "metadata": {},
            "source": [
                "# Opgave 5 (*)\n",
                "1.  Lav en Basal Metabolic Rate (BMR) beregner, der fortæller hvor meget\n",
                "    energi du forbrænder i hviletilstand i løbet af en dag (kalorier).\n",
                "    Input er hvorvidt du er mand eller kvinder samt vægt (kg), alder (år), højde (cm) og\n",
                "    aktivitetsniveau. Formlen (kendt som Harris–Benedicts ligninger) og\n",
                "    er givet på følgende [side](https://en.wikipedia.org/wiki/Harris%E2%80%93Benedict_equation) samt aktivitetsniveauet er her: [side](https://www.bmi-calculator.net/bmr-calculator/harris-benedict-equation/). Du vælger selv hvilken variant af formlen, som du ønsker at implementere.\n",
                "2.  En Big Mac rummer ca 500 kalorier. Lav en omregner, der regner i Bic Macs\n"
            ]
        },
        {
            "cell_type": "markdown",
            "metadata": {},
            "source": [
                "# Opgave 6 (**)\n",
                "1.  Undersøg om en given tekststreng (string variable) udgør et validt\n",
                "    CPR-NR.\n",
                "\n",
                "2.  Skriv et program, der oplister alle CPR-numre. "
            ]
        },
        {
            "cell_type": "markdown",
            "metadata": {},
            "source": [
                "# Opgave 7 (*)\n",
                "\n",
                "1. Skriv et program, der finder alle de store bogstaver og små bogstaver i\n",
                "en streng.\n",
                "\n",
                "2. Skriv et program, der finder alle mellemrum\n",
                "\n",
                "3. Skriv et program, der undersøger hvor mange forskellige bogstaver to\n",
                "strenge har.\n",
                "\n",
                "4. Skriv et program, der erstatter alle bogstaver “i” med “k” i en streng.\n",
                "\n",
                "5. Skriv et program, der undersøger om en given delstreng er indeholdt i en\n",
                "anden streng"
            ]
        },
        {
            "cell_type": "markdown",
            "metadata": {},
            "source": [
                "# Opgave 8 (**)\n",
                "Givet to tekststrenge. Overvej forskellige måder til at undersøge om den\n",
                "ene er et plagiat af den anden."
            ]
        },
        {
            "cell_type": "markdown",
            "metadata": {},
            "source": [
                "# Opgave 9 (**)\n",
                "Skriv et program der generer et Haiku digt ud fra nogle fastsatte\n",
                "sætninger. Der er 17 stavelser i et Haiku digt fordelt på 5-7-5 i de tre\n",
                "linjer."
            ]
        },
        {
            "cell_type": "markdown",
            "metadata": {},
            "source": [
                "# Opgave 10 (*)\n",
                "Lav et tekstbaseret “sten-saks-papir”-spil.\n",
                "\n",
                "# Opgave 11 (*)\n",
                "Lav et tekstbaseret “Hang-man” spil\n",
                "\n",
                "# Opgave 12 (*)\n",
                "Lav et program, der undersøger om et givent password er et sikkert\n",
                "    password. Ved sikkert forstås, at det skal være minimum 8 bogstaver\n",
                "    langt samt indeholde både et stort og lille bogstav samt et tal. Du\n",
                "    må gerne udvide kriterierne.\n",
                "\n",
                "# Opgave 13 (*)\n",
                "1.  Lav et program der omregner fra grader til radianer eller omvendt.\n",
                "    Hint: $2\\cdot\\pi$ radianer svarer til 360 grader.\n",
                "\n",
                "2.  Givet en retvinkel trekant. Lav en trekantsberegner, der bestemmer\n",
                "    alle sider og vinkler i trekanten. Brug gerne matematikpakken i\n",
                "    Python:\n",
                "\n",
                "    ``` {.python language=\"Python\"}\n",
                "        import math as m\n",
                "        print(m.cos(m.pi)) # udskriver -1.0. Hvorfor mon?\n",
                "    ```\n",
                "    \n",
                "# Opgave 14 (**)\n",
                "Tilnærmelse af tallet kan gøres ved følgende formel\n",
                "$$\\pi = 3 + \\frac{4}{2\\cdot 3\\cdot 4}-\\frac{4}{4\\cdot 5\\cdot 6}+\\frac{4}{6\\cdot 7\\cdot 8}-\\ldots$$\n",
                "\n",
                "1.  Lav et program, der beregner en tilnærmelse af $\\pi$, hvor input er\n",
                "    antallet af brøkled i formlen.\n",
                "\n",
                "# Opgave 15 (*)\n",
                "1.  Lav et program, der finder alle a’er i en tekststreng.\n",
                "\n",
                "# Opgave 16 (*)\n",
                "1.  Undersøg om en tekststreng er et palindrom. Dvs. om tekststrengen\n",
                "    læses og skrives på samme måde forfra og bagfra.\n",
                "\n",
                "# Opgave 17 (*)\n",
                "1.  Konstruér et program der løser ligninger på formen $ax+b=c$. Input\n",
                "    er tallene $a,b$ og $c$."
            ]
        },
        {
            "cell_type": "markdown",
            "metadata": {},
            "source": [
                "# Opgave 18 (*)\n",
                "Skriv et program, der fylder en liste med heltal i en tilfældig række. Bestem selv hvilke.\n",
                "1. Sorter listen.\n",
                "2. Byt om på rækkefølgen af tal når den er sorteret\n",
                "3. Indsæt et element midt i listen\n",
                "4. Udvid programmet så du kan tilføje et element til listen ved brug af input fra brugeren\n",
                "\n",
                "# Opgave 19 (*)\n",
                "Skriv et program, der tager en tekststreng indlæst i en variable. Teksten skal bestå af mindst\n",
                "100 ord og split ordene op i en liste ved brug af split-funktionen.\n",
                "1. Tæl antallet af kommaer og punktummer\n",
                "2. Find det ord der forekommer flest gange\n",
                "3. Lav en liste der viser hvor mange gange hvert ord forekommmer\n",
                "\n",
                "# Opgave 20 (*)\n",
                "Skriv et program der kan bruges til Lotto, hvor der genereres 7 tilfældige tal. De skal være\n",
                "forskellige (mellem 1 og 40) og returneres i stigende rækkefølge.\n",
                "\n",
                "# Opgave 21 (*)\n",
                "Skriv en funktion, der undersøger om en given delliste af tal er indeholdt i en liste af tal. Dellisten\n",
                "skal optræde fra start til slut i listen. Dvs. [2,3] er en delliste af [1,2,3,4] men [1,4] er ikke.\n",
                "\n"
            ]
        },
        {
            "cell_type": "markdown",
            "metadata": {},
            "source": [
                "# Opgave 22 (**)\n",
                "Betragt følgende dictionary nedenfor.\n",
                "1. Gennemløb løn og udskriv navn og løn for hver person på en linje for sig.\n",
                "2. Undersøg om \"Bente\"findes i løn.\n",
                "3. Hent og udskriv kun nøgler af løn.\n",
                "4. Hent og udskriv kun værdierne af løn.\n",
                "5. Bestem gennemsnitslønnen.\n",
                "6. Bestem den hyppigst forekomne lønindkomst.\n",
                "7. Bestem mindste- og størstelønnen i løn.\n",
                "8. Undersøg programmatisk om der findes flere personer med samme løn.\n"
            ]
        },
        {
            "cell_type": "code",
            "execution_count": null,
            "metadata": {},
            "outputs": [],
            "source": [
                "løn={'Niels':85000,'Peter':40000,'Jakob':90000,'Poul':100000,'Dorte':40000}"
            ]
        },
        {
            "cell_type": "markdown",
            "metadata": {},
            "source": [
                "# Opgave 23 (**)\n",
                "\n",
                "Skriv et program, der på baggrund af en tekst, konstruerer en dictionary kaldt bogstav, så\n",
                "f.eks. bogstav[’a’] er lig med antallet af a’er i teksten, bogstav[’b’] er lig med antallet af\n",
                "b’er osv.\n"
            ]
        },
        {
            "cell_type": "markdown",
            "metadata": {},
            "source": [
                "# Opgave 24 (**)\n",
                "Skriv et program der bruger en dictionary til at rumme en filmdatabase. Dictionary skal rumme\n",
                "filmens titel, produktionsår, og instruktør samt en genre.\n",
                "Du afgør selv strukturen.\n",
                "1. Lav en funktion der afgør om en given film eksisterer i biblioteket fra forrige opgave.\n",
                "2. Lav en funktion der sletter en given film fra databasen\n",
                "3. Lav en funktion der tilføjer en ny film til databasen.\n",
                "4. Lav en funktion der opdaterer en egenskab ved en film. Dvs. instruktør, titel, genre eller\n",
                "produktionsår."
            ]
        },
        {
            "cell_type": "markdown",
            "metadata": {},
            "source": [
                "# Opgave 25 (***)\n",
                "1. Skriv et program, der sorterer en liste af tal vha. bubblesort-algoritmen.\n",
                "2. Skriv et program, der sorterer en liste af tal vha. mergesort-algoritmen.\n",
                "3. Afprøv dine sorteringsalgoritmer på lister med mange tusinde tal. Hvilken en af algoritmerne\n",
                "er mon hurtigst?\n"
            ]
        },
        {
            "cell_type": "markdown",
            "metadata": {},
            "source": [
                "# Opgave 26 (**)\n",
                "\n",
                "1. Skriv et program der afgør om et givent tal er et primtal.\n",
                "2. Undersøg hvad der er det største primtal, som går op i tallet 600851475143"
            ]
        },
        {
            "cell_type": "markdown",
            "metadata": {},
            "source": [
                "# Opgave 27 (**)\n",
                "Lav et \"Kryds og bolle\"-spil ved brug af følgende funktioner. Du må gerne selv lave nogle funktioner men ikke ændre på hovedet af de eksisterende og du må kun kalde de eksisterende i main(). Husk at kalde main til sidst for at få det til at virke. Udvid gerne med en AI:"
            ]
        },
        {
            "cell_type": "code",
            "execution_count": null,
            "metadata": {},
            "outputs": [],
            "source": [
                "\n",
                "import random\n",
                "''' \n",
                "- represents place not taken\n",
                "x and o means player inseret\n",
                "'''\n",
                "board = [\"-\"]*9\n",
                "playerTurn = random.choice(['x','o'])\n",
                "\n",
                "# implement function that prints the board in console\n",
                "def printBoard():\n",
                "    pass\n",
                "\n",
                "# implement function that cleans the board and fill it with \"-\"\"\n",
                "def cleanBoard():\n",
                "    pass\n",
                "\n",
                "# implement function that inserts a piece (x/o) in the board at index i\n",
                "def movePiece(i, piece):\n",
                "    pass\n",
                "\n",
                "# asks for next players move (notice variable playerturn has to be changed)\n",
                "def askInput():\n",
                "    pass\n",
                "\n",
                "# implement function that returns x/o if anybody won, draw if there is no # places and \"unfinished\" #otherwise\n",
                "def checkStatus():\n",
                "    pass\n",
                "\n",
                "# implement function that plays an AI\n",
                "def playerAI():\n",
                "    pass\n",
                "\n",
                "# implement main\n",
                "def main():\n",
                "    while True:\n",
                "        if checkStatus()==\"unfinished\" :\n",
                "            askInput()\n",
                "        else:\n",
                "            if checkStatus()==\"x\":  \n",
                "                pass              \n",
                "            elif checkstatus()==\"o\":\n",
                "                pass\n",
                "            elif checkstatus()==\"draw\":\n",
                "                pass"
            ]
        },
        {
            "cell_type": "markdown",
            "metadata": {},
            "source": [
                "# Opgave 28 (***)\n",
                "\n",
                "TILLYKKE! Du er blevet ansat som ledende data-analytiker i firmaet DataSukkertop, som skal udvikle software til analyse af sociale medier.\n",
                "DataSukkertop tror meget på at udvikle alting fra bunden, så det første du skal gøre er at udvikle en simpel prototype på et dataanalyse værktøj i et selvvalgt programmeringssprog.\n",
                "VELKOMMEN ombord og held og lykke. Du må have jeans på om fredagen og toillettet er nede for enden af gangen til højre :-).\n",
                "\n",
                "1.\tStart med at lave en selvvalgt datastruktur (såsom en dictionary, flerdimensionelt array, lister af objekter etc), som kan håndtere følgende navne med unikke id. Herunder er et eksempel på hvordan det kunne gøres vha dictionaries:\n",
                "\n",
                "```\n",
                "brugere = [\n",
                "    {\"id\":0, \"name\": \"Henrik\"},\n",
                "    {\"id\":1, \"name\": \"Peter\"},\n",
                "    {\"id\":2, \"name\": \"Jakob\"},\n",
                "    {\"id\":3, \"name\": \"Lukas\"}\n",
                "]\n",
                "```\n",
                "Udvid selv dictionary med mindst 10 venner.\n",
                " \n",
                "2.\tFølgende array illustrerer vennerelationerne mellem de enkelte personer fra punkt 1 (f.eks. er 0 og 1 venner). \n",
                "```\n",
                "venner = [(0,1),(0,3),(1,2)]\n",
                "```\n",
                "Udvid med flere vennerelationer. Prøv at omsætte array til et dictionary.\n",
                "\n",
                "3.\tSkriv noget kode der finder det samlede antal relationer\n",
                "\n",
                "4.\tFind det gennemsnitlige antal relationer\n",
                "\n",
                "5.\tDin chef vil gerne have tilføjet en funktion “Folk du måske kender”. F.eks. i punkt 2. ses, at 0 har både 1 og 2, som venner. Det betyder, at der måske er en chance for at 1 og 2 og så kender i hinanden. Hvordan ville du gøre det?\n",
                "\n",
                "6. Overvej noget kode der giver dig et bud på venner som en id måske kender.\n",
                "\n",
                "7.\tYdermere vil din chef gerne have visualiseret vennerelationer i en graf, hvor id udgør knuder og vennerelationer er streger fra knude til knude. Har du forslag til hvordan man kunne gøre det? Brug gerne pyp5.js eller lignende til at visualisere.\n",
                "\n",
                "8. Nu udvides det sociale medie med interesser ala følgende:\n",
                "\n",
                "```\n",
                "interesser=[\n",
                "    (0,\"Film\"),(0,\"Bøger\"),(1,\"Film\"),(2,\"Bøger\"),(3,\"Film\"),(3,\"Sport\"),\n",
                "    ]\n",
                "```\n",
                "Skriv en funktion, der givet en interesse returnerer id'er som har den interesse.\n",
                "\n",
                "9. Skriv en funktion, der givet en bruger-id finder en anden bruger som har flest af de samme interesser.\n"
            ]
        },
        {
            "cell_type": "markdown",
            "metadata": {},
            "source": [
                "# Opgave 29 (***)\n",
                "\n",
                "Et klassisk problem indenfor naturlig sprog processering handler om at undersøge hvor negativt eller positivt ladet en given sætning er. I skal i det følgende prøve at lave en primitiv algoritme, der returner et tal mellem 0 og 1 som indikerer om sætningen er positivt, neutral eller negativ.\n",
                "Vi afprøver jeres algoritme på Trumps twitter data: http://www.trumptwitterarchive.com/. Overvej undervejs hvor det kan være en ide at bruge exceptions.\n"
            ]
        },
        {
            "cell_type": "markdown",
            "metadata": {},
            "source": [
                "# Opgave 30 (***)\n",
                "I skal her lave en algoritme, som tæller de x mest forekomne ord i en tekst og viser dem på skærmen. Vi bruger Trumps twitter arkiv igen. Overvej undervejs hvor det kan være en ide at bruge exceptions."
            ]
        },
        {
            "cell_type": "markdown",
            "metadata": {},
            "source": [
                "# Opgave 31 (***)\n",
                "\n",
                "Benfords lov eller princip fortæller noget om hvilke tal, der hyppigst vil forekomme, ofte i lister fra dagligdagen, såsom husnumre, priser, indbyggertal, længder på floder, aktiekurser etc.\n",
                "Formlen er givet ved: $$P(d)=\\log(d+1)-\\log(d),$$ hvor P er sandsynligheden for at det ledende tal er d og log er 10-tals logaritmen.\n",
                "\n",
                "Skriv et program der kan teste Benfords lov for forskellige data. Prøv af på forskellige datasæt. Eksempelvis indbyggertal i byerne i Danmark (se https://www.bolius.dk/de-stoerste-byer-i-danmark-27946) eller ordskyen I (muligvis har) lavet tidligere.  \n"
            ]
        },
        {
            "cell_type": "markdown",
            "metadata": {},
            "source": [
                "# Opgave 32 (*)\n",
                "Brug exceptions til at skrive en funktion, der tager en streng splitter den op og ved hjælp af execeptions undersøger om input består af præcis 3 elementer: Tal Operator Tal.\n",
                "Operator er de klassiske fire regnearter. Husk at du ikke må dele med 0.\n",
                "\n",
                "Udvid programmet, så du kan operere på flere tal.\n"
            ]
        },
        {
            "cell_type": "markdown",
            "metadata": {},
            "source": [
                "# Opgave 33 (**)\n",
                "Herunder nogle små opgaver hvor du skal skrive en funktioner, der løser problemet. Løs så mange du kan (nå):\n",
                "\n",
                "1. Skriv en funktion der finder det største tal af tre givne tal som argumenter.\n",
                "2. Skriv en funktion der summer alle tal i en liste.\n",
                "3. Skriv en funktion, der bytter om på rækkefølgen i en given liste.\n",
                "4. Skriv en funktion, der undersøger om et tal er indenfor et givent interval.\n",
                "5. Skriv en funktion, der tager en liste af tal og returnerer en ny liste der består af de unikke tal fra den liste.\n",
                "6. Skriv en funktion, der givet en liste kun printer de lige tal.\n"
            ]
        },
        {
            "cell_type": "markdown",
            "metadata": {},
            "source": [
                "# Opgave 34 (**)\n",
                "Denne opgave træner dig i at bruge tupler i Python. Løs så mange du kan:\n",
                "\n",
                "1. Skriv et program der opretter en tuple.\n",
                "2. Skriv et program der opretter en tuple med forskellige typer data.\n",
                "3. Skriv et program, der opretter en tuple og printer den.\n",
                "4. Skriv et program der konverterer en tuple til en streng.\n",
                "5. Skriv et program, der tjekker om et element eksisterer i en tuple.\n",
                "6. Skriv et program, der finder længden af en tuple."
            ]
        },
        {
            "cell_type": "markdown",
            "metadata": {},
            "source": [
                "# Opgave 35 (**)\n",
                "Denne opgave træner dig i simpel brug af lister. Prøv at undgå at bruge eksisterende funktioner.\n",
                "\n",
                "1. Byt om på rækkefølgen i en liste. Så sidste element er det første.\n",
                "2. Sammenkæd to lister.\n",
                "3. Givet en liste af tal returner de kvadreret tal.\n",
                "4. Sammenkæd to lister af strenge, så første element i den første liste og første element i den anden liste konkatineres/sættes sammmen så de er første element i den nye liste.\n",
                "5. Givet to lister af tal og af samme længde. Iterer over dem, så første element i den ene liste og første element i den anden printes på samme linje osv.\n",
                "6. Fjern tomme strenge i en liste af strenge.\n",
                "7. Givet en liste med flere værdier af 20. Find dem men kun erstat den sidste med 200."
            ]
        },
        {
            "cell_type": "markdown",
            "metadata": {},
            "source": [
                "# Opgave 36 (**)\n",
                "Herunder nogle simple opgaver om brugen af strenge. Lav så mange du kan nå. Det er god træning og prøv at undgå at bruge prædefinerede metoder.\n",
                "\n",
                "1. Skriv en funktion der beregner længden af en streng.\n",
                "2. Skriv en funktion der beregner antallet af karakterer i en streng.\n",
                "3. Skriv en funktion der tager en sætning i form af en streng og splitter den op, så du får en liste af ord.\n",
                "4. Skriv en funktion, der kan indsætte et bogstav på et bestemt index og returnere den nye streng.\n",
                "5. Skriv en funktion, der tager en liste af strenge og finder den længste.\n",
                "6. Skriv en funktion, der fjerner det i'te element i en ikke tom streng.\n",
                "7. Skriv to funktioner. En der krypterer en streng og en anden der dekrypterer. Du bestemmer selv krypteringsmetoden. Den må gerne være meget simpel. \n",
                "\n"
            ]
        },
        {
            "cell_type": "markdown",
            "metadata": {},
            "source": [
                "# Opgave 37 (*)\n",
                "Denne øvelser træner dig i at bruge pakker og moduler:\n",
                "\n",
                "1. Forklar forskellen på moduler og pakker\n",
                "2. Forklar forskellen på \"import\", \"from X import y\"\n",
                "3. Hvad er \"pip\" og hvor kan man tilgå den?\n",
                "4. Lav en funktion i en fil og importer den inden i en anden funktion. Kald funktionen fra denne fil.\n",
                "5. Prøv at importer alle funktioner fra standard biblioteket \"time\"\n",
                "6. Prøv at importere funktioner fra \"math\" biblioteket og kald dem."
            ]
        },
        {
            "cell_type": "markdown",
            "metadata": {},
            "source": [
                "# Opgave 38 (**)\n",
                "Herunder nogle små opgaver om objekt orienteret programmering. Forklar med eksempler og kode.\n",
                "\n",
                "1. Beskriv relationen mellem et objekt og dens definerende klasse\n",
                "2. Hvordan defineres en klasse?\n",
                "3. Hvordan laves et objekts reference variable\n",
                "4. Hvordan konstrueres et objekt\n",
                "5. Hvad er forskellen mellem konstruktøren og metoder?\n",
                "6. Hvordan kaldes en metode fra en klasse?\n",
                "7. Opret en klasse for en cirkel. Den skal have et centrum (x,y) og en\n",
                "radius som data. Klassen skal have en metode der printer klassens\n",
                "attributter ud.\n",
                "8. Opret en klasse for en linje i planen. Den skal have en hældning og en\n",
                "skæring med y-aksen. Klassen skal have en metode der printer klassens\n",
                "attributter ud.\n",
                "9. Udvid klasserne i de foregående øvelser med konstruktører så de kan\n",
                "oprette med argumenter. For cirkel skal det være radius og centrum. For\n",
                "linjen skal det være hældningstal og skæring med y-aksen.\n",
                "10. Udvid linjens klasse så den rummer en konstruktør der tager fire\n",
                "talværdier svarende til (x1,y1) og (x2,y2).\n",
                "11. Udvid cirklen med to metoder. En der beregner areal af cirklen og en\n",
                "anden der beregner omkredsen.\n",
                "12. Forklar med nogle små eksempler hvad der forstås ved nedarvning, indkapsling, abstraktion samt polymorfisme?\n"
            ]
        },
        {
            "cell_type": "markdown",
            "metadata": {},
            "source": [
                "# Opgave 39\n",
                "En bilforhandler skal ha nyt it-system, der håndterer nye og solgte biler. De sælger kun benzinbiler fra Mercedes, hybridbiler BMW og el-biler fra VW.\n",
                "\n",
                "1. Lav en klasse for bil med relevante attributter herunder nummerplader.\n",
                "2. Lav en klasse for hver af de tre bilmærker der arver fra bil-klassen i 1. Illustrer med et klassediagram i UML.\n",
                "3. Giv de tre bil-klasser nogle forskellige attributter og metoder, der gør det muligt at håndtere at de køre forskellig på en liter benzin/el og at de accellerer og har forskellige tophastigheder.\n",
                "4. Opret biler af være type og gem dem i en fælles liste.\n",
                "5. Løb listen igennem og udprint deres nummerplader.\n",
                "6. Overvej hvordan du har brugt principperne fra objektorienteret programmering i løsningen af de fem punkter.\n"
            ]
        },
        {
            "cell_type": "markdown",
            "metadata": {},
            "source": [
                "# Opgave 40\n",
                "\n",
                "En Zoologisk have skal have nyt it-system til at håndtere de forskellige dyr og det er din opgave implementere det.\n",
                "Systemet skal rumme mulighed for at håndtere hvornår og hvad de spiser, deres køn og deres alder samt nogle andre attributter, som du selv kan vælge.\n",
                "\n",
                "1. Lav en superklasse der hedder Dyr. Implementer forskellige metoder, der opererer på attributterne. F.eks. ændre tidpunkt for hvornår de sidst har spist, ændre deres alder etc.\n",
                "2. Lav hernæst klasser for giraffer, zebraer, aber og flodheste.\n",
                "3. Illustrer systemet med et klassediagram.\n",
                "4. Zoologisk have udvider med forskellige abe arter (gorillaer, chimpanser og orangutaner). Udvid systemet og klasseidagrammet så det kan håndtere disse forskellige aber, så de får navne og alder m.m. \n",
                "5. Opret nogle forskellige aber og sæt dem i en liste. Print deres alder og navn.\n",
                "6. Overvej hvordan du har brugt principperne fra objektorienteret programmering."
            ]
        },
        {
            "cell_type": "markdown",
            "metadata": {},
            "source": [
                "# Opgave 41\n",
                "\n",
                "I det følgende skal vi se på hvordan man kan lave webapps i Python. Vi bruger biblioteket \"streamlit\", som man IKKE bruger i jupyter, men skal skrive i py-filer for. Start med at installere det:\n",
                "\n",
                "```\n",
                "pip install streamlit\n",
                "```\n",
                "Prøv nu at skrive følgende i kommandoprompt i vscode med \"streamlit run filnavn.py\" hvor filnavn.py er navnet på filen med følgende indhold:\n",
                "```python\n",
                "import streamlit as st\n",
                "# Henter navn fra tekstboks\n",
                "name = st.text_input(\"Navn\", \"Skriv det her ...\")\n",
                "# printer navn...\n",
                "if(st.button('OK')):\n",
                "    result = name.title()\n",
                "    st.text(result)\n",
                "```\n",
                "Du skulle gerne få et link til en lokal url, hvor resultatet vises som en webside. Hvis du vil ud af programmet i kommandoprompt så tryk Ctrl+c.\n",
                "Under exercises ligger flere eksempler på gui-elementer man kan indsætte.\n",
                "Prøv nu at lave følgende små webapplikationer:\n",
                "\n",
                "1. En webapp der tager fornavn og efternavn som tekstfelter og printer det samlede navn, når du trykker.\n",
                "2. En promilletjekker, der undersøger hvor fuld du er.\n",
                "3. En BMI-beregner der fortæller om du er undervægtig, normal eller overvægtig.\n",
                "\n",
                "    "
            ]
        },
        {
            "cell_type": "markdown",
            "metadata": {},
            "source": [
                "# Opgave 42 (***)\n",
                "I den følgende opgave skal du arbejde med aktieanalyse og visualisering. Afprøv først koden herunder og overvej hvad den gør (koden er også tilgængelig i biblioteket gui_streamlit under navnet stockchart.py). Du skal særligt fokusere på den sidste del hvor der står \"Her skal du til at skrive noget kode\". I de to lister til sidst i koden er gemt åbne og lukke kursen.\n",
                "\n",
                "1. Skriv funktioner der finder top og bund for åbningskursen. Skriv dem ud vha. streamlit og hvornår de fandt sted.\n",
                "2. Skriv funktioner der finder max, min samt den gennemsnitlige forskel mellem åbne og lukke kursen. Skriv dem ud vha. streamlit og hvornår de fandt sted.\n",
                "3. Beregn det 200 dages glidende gennemsnit for åbningskursen. Skriv dem ud vha. streamlit og hvornår de fandt sted.\n",
                "4. Lav en graf der illustrerer det 200 dages glidende gennemsnit.\n",
                "5. Hvis åbningskursen i dag ligger over det glidende gennemsnit så er det en tommelfingerregel, der siger at aktien har en opadgående eller nedadgående tendens. Udskriv hvorvidt man bør købe eller ej.\n",
                "6. Beregn nu det såkaldte RSI index, som er begreb, der bruges til at afgøre om aktien er overkøbt eller oversolgt:\n",
                "   1. Beregn summen af kursændringerne for de seneste 9 dage, hvor kursen har lukket højere end den foregående dag, og divider dette tal med 9. Dette tal kaldes GnsOp.\n",
                "   2. Beregn summen af kursændringerne for de seneste 9 dage, hvor kursen har lukket lavere end den foregående dag, og divider dette tal med 9. Dette tal kaldes GnsNed.\n",
                "   3. Divider GnsOp med GnsNed, og læg 1 til.\n",
                "   4. Divider 100 med tallet i (3).\n",
                "   5. Træk tallet i (4) fra 100. Dette tal er RSI-værdien.\n",
                "   6. RSI = 100 – (100 / 1 + RS )\n",
                "7. Udskriv RSI på skærmen og hvad status for aktien er. Hvis RS nærmer sig 30 er den oversolgt, hvis den nærmer sig 70 er den overkøbt.\n"
            ]
        },
        {
            "cell_type": "code",
            "execution_count": null,
            "metadata": {},
            "outputs": [],
            "source": [
                "from pandas.core.indexes.datetimes import date_range #importere en dataframe, som kan behandle data\n",
                "import streamlit as st #gui api\n",
                "from datetime import date #dato og tid\n",
                "import yfinance as yf #api til at hente data\n",
                "import matplotlib.pyplot as plt #api til at plotte grafer\n",
                "\n",
                "START = \"2015-01-01\"\n",
                "TODAY = date.today().strftime(\"%Y-%m-%d\")\n",
                "\n",
                "st.title('Stock Data Visualizer')\n",
                "stocks = ('GOOG', 'AAPL', 'MSFT', 'GME')\n",
                "selected_stock = st.selectbox('Select stock', stocks)\n",
                "\n",
                "@st.cache\n",
                "def load_data(ticker):\n",
                "    data = yf.download(ticker, START, TODAY)\n",
                "    data.reset_index(inplace=True)\n",
                "    return data\n",
                "   \n",
                "data_load_state = st.text('Loading data...')\n",
                "data = load_data(selected_stock)\n",
                "data_load_state.text('Loading data... done!')\n",
                "\n",
                "st.subheader('Raw data')\n",
                "st.write(data.tail())\n",
                "\n",
                "# Kolonne navne er [index,Date,Open,High,Low,Close, Adj Close, Volume]\n",
                "# Her skal du til at skrive noget kode\n",
                "opendata = data[\"Open\"].tolist()\n",
                "closedata = data[\"Close\"].tolist()\n",
                "\n",
                "plt.plot(opendata)\n",
                "plt.ylabel('Open data')\n",
                "plt.show()\n",
                "st.pyplot(plt)"
            ]
        },
        {
            "cell_type": "markdown",
            "metadata": {},
            "source": [
                "# Opgave 43\n",
                "\n",
                "Herunder nogle grundlæggende øvelser i brugen af biblioteket numpy. Kræver det er installeret for at kunne køre (men det er inkluderet i Ananconda):\n",
                "\n",
                "a. Importer numpy og udprint versionen af det.\n",
                "\n",
                "b. Opret en vektor med 10 elementer.\n",
                "\n",
                "c. Opret en vektor med 10 elementer. På 5'te plads skal der være et 1'tal.\n",
                "\n",
                "d. Opret en vektor med elementer mellem 10 og 49 (vink: brug arange)\n",
                "\n",
                "e. Opret en 3x3 matrix med værdier fra 0 til og med 8.\n",
                "\n",
                "f. Find index på de elementer der ikke er 0 i [1,2,0,4,5,3] (vink: brug nonzero metode).\n",
                "\n",
                "g. Opret et 3x3x3 array med tilfældige værdier (vink: brug np.random.random).\n",
                "\n",
                "h. Opret en vektor af størrelsen 30 og find gennemsnitsværdien af de enkelte elementer.\n",
                "\n",
                "i. Multiplicer en 5x3 matrix med en 3x2 matrix (vink brug np.dot).\n",
                "\n",
                "j. Sum alle elementer i vektoren h.\n"
            ]
        },
        {
            "cell_type": "markdown",
            "metadata": {},
            "source": [
                "# Opgave 44\n",
                "\n",
                "Registrer højden på alle i nærheden af dig. Skriv det ind i en .txt fil ved navn 'height.txt' i følgende format:\n",
                "højde køn. Køn angiver 0 eller 1 afhængig af om man der mand eller kvinde. F.eks. indikerer nedenstående, at der er tale om en kvinde med højden 185 cm og en mand af højden 187 cm.\n",
                "185 1\n",
                "187 0\n",
                "\n",
                "Hvis du ikke har nogle data kan du evt. bare fylde nogle værdier ud selv.\n",
                "\n",
                "a.  I samme bibliotek laves nu en python fil og du indlæser med \n",
                "´´´python\n",
                "import numpy as np\n",
                "data = np.loadtxt(\"height.txt\")\n",
                "´´´\n",
                "\n",
                "b. Prøv at udprinte data på skærmen.\n",
                "\n",
                "c. Bestem nu gennemsnitshøjden for kvinder og gennemsnitshøjden for mænd.\n",
                "\n",
                "d. Bestem nu hvor høj den højeste kvinde og mand er.\n",
                "\n",
                "e. Bestem hyppigheden af de enkelte højder.\n",
                "\n",
                "f. Bestem middeltallet.\n",
                "\n",
                "g. Bestem øvre og nedre kvartil samt medianen."
            ]
        },
        {
            "cell_type": "markdown",
            "metadata": {},
            "source": [
                "# Opgave 45\n",
                "I denne øvelse skal du trænes i at bruge numpy biblioteket, som bl.a. bruges i maskinelæring og datascience til at regne med mange forskellige typer datasæt. \n",
                "\n",
                "1. Importer numpy og generer en matrice af tal (forklar hvad der sker):"
            ]
        },
        {
            "cell_type": "code",
            "execution_count": null,
            "metadata": {},
            "outputs": [],
            "source": [
                "import numpy as np\n",
                "np.random.seed(21) # This guarantees the code will generate the same set of random numbers whenever executed\n",
                "random_integers = np.random.randint(1,high=500000, size=(20, 5))\n",
                "random_integers"
            ]
        },
        {
            "cell_type": "markdown",
            "metadata": {},
            "source": [
                "2. Beregn summen og gennemsnittet af i random_integers for alle kolonnnerne (du må gerne behandle det som et multidimensionalt array eller bruge sum funktioner fra numpy)."
            ]
        },
        {
            "cell_type": "markdown",
            "metadata": {},
            "source": [
                "3. To arrays kan lægges sammen på følgende måde (forklar koden):"
            ]
        },
        {
            "cell_type": "code",
            "execution_count": null,
            "metadata": {},
            "outputs": [],
            "source": [
                "a = np.array([[1,2,3],\n",
                "              [4,5,6]])\n",
                "b = np.array([[10,11,12],\n",
                "              [13,14,15]])\n",
                "c = a + b\n",
                "print(c)"
            ]
        },
        {
            "cell_type": "markdown",
            "metadata": {},
            "source": [
                "4. Et array kan skaleres på følgende måde (forklar koden): "
            ]
        },
        {
            "cell_type": "code",
            "execution_count": null,
            "metadata": {},
            "outputs": [],
            "source": [
                "a = np.array([[1,2,3],\n",
                "              [4,5,6]])\n",
                "b = 2*a \n",
                "print(b)"
            ]
        },
        {
            "cell_type": "markdown",
            "metadata": {},
            "source": [
                "5. Hvad gør følgende kode:"
            ]
        },
        {
            "cell_type": "code",
            "execution_count": null,
            "metadata": {},
            "outputs": [],
            "source": [
                "a = np.array([1,2,3,4,5])\n",
                "b = np.array([1,3,2,4,5])\n",
                "print(np.where(a == b))"
            ]
        },
        {
            "cell_type": "markdown",
            "metadata": {},
            "source": [
                "6. Undersøg matricen af tal fra 1. hvor du ser på hvor mange tal der er større eller lig med i første kolonne sammenlignet med anden kolonne"
            ]
        },
        {
            "cell_type": "markdown",
            "metadata": {},
            "source": [
                "7. I det følgende skal du gemme arrayet fra 1. i en tekst-fil, der ligger i samme bibiotekt som denne fil. Prøv følgende kode af:"
            ]
        },
        {
            "cell_type": "code",
            "execution_count": null,
            "metadata": {},
            "outputs": [],
            "source": [
                "# X is an array\n",
                "c = np.savetxt('randomnumbers.txt', random_integers, delimiter =', ')   \n",
                "a = open(\"randomnumbers.txt\", 'r')# open file in read mode\n",
                "  \n",
                "print(\"the file contains:\")\n",
                "print(a.read())"
            ]
        },
        {
            "cell_type": "markdown",
            "metadata": {},
            "source": [
                "8.  I det følgende skal du indlæse samme txt-fil i et array. Prøv derfor følgende kode af (hvad mon usecol og delimiter betyder?):\n",
                "\n"
            ]
        },
        {
            "cell_type": "code",
            "execution_count": null,
            "metadata": {},
            "outputs": [],
            "source": [
                "import numpy as np\n",
                "x, y = np.loadtxt(\"random_integers.txt\", delimiter=',', usecols=(0, 2), unpack=True)\n",
                "x\n",
                "y\n"
            ]
        },
        {
            "cell_type": "markdown",
            "metadata": {},
            "source": [
                "# Opgave 46\n",
                "I det følgende skal vi lave nogle simple øvelser der træner jer I i brugen af biblioteket matplotlib som bruges i samspil med bl.a. numpy til at visualisere datasæt.\n"
            ]
        },
        {
            "cell_type": "markdown",
            "metadata": {},
            "source": [
                "1. Prøv at forklare linje for linje hvad følgende kode gør:"
            ]
        },
        {
            "cell_type": "code",
            "execution_count": null,
            "metadata": {},
            "outputs": [],
            "source": [
                "import matplotlib.pyplot as plt\n",
                "X = range(1, 50)\n",
                "Y = [value * 3 for value in X]\n",
                "print(\"Values of X:\")\n",
                "print(*range(1,50)) \n",
                "print(\"Values of Y (thrice of X):\")\n",
                "print(Y)\n",
                "plt.plot(X, Y)\n",
                "plt.xlabel('x - axis')\n",
                "plt.ylabel('y - axis')\n",
                "plt.title('Draw a line.')\n",
                "plt.show()"
            ]
        },
        {
            "cell_type": "markdown",
            "metadata": {},
            "source": [
                "2. Forklar linje for linje hvad følgende kode gør:"
            ]
        },
        {
            "cell_type": "code",
            "execution_count": null,
            "metadata": {},
            "outputs": [],
            "source": [
                "import matplotlib.pyplot as plt\n",
                "x = [1,2,3]\n",
                "y = [2,4,1]\n",
                "plt.plot(x, y)\n",
                "plt.xlabel('x - axis')\n",
                "plt.ylabel('y - axis')\n",
                "plt.title('Sample graph!')\n",
                "plt.show()"
            ]
        },
        {
            "cell_type": "markdown",
            "metadata": {},
            "source": [
                "3. Prøv at plotte to af kolonnerne fra den foregående øvelse med datasættet random_integers.txt"
            ]
        },
        {
            "cell_type": "markdown",
            "metadata": {},
            "source": [
                "4. Man kan relativt let lave histogrammer ved brug at matplotlib (forklar linje for linje hvad koden gør):"
            ]
        },
        {
            "cell_type": "code",
            "execution_count": null,
            "metadata": {},
            "outputs": [],
            "source": [
                "import numpy as np\n",
                "import matplotlib.pyplot as plt\n",
                "\n",
                "x = [21,22,23,4,5,6,77,8,9,10,31,32,33,34,35,36,37,18,49,50,100]\n",
                "num_bins = 5\n",
                "n, bins, patches = plt.hist(x, num_bins, facecolor='blue', alpha=0.5)\n",
                "plt.show()"
            ]
        },
        {
            "cell_type": "markdown",
            "metadata": {},
            "source": [
                "5. Prøv at lave et histogram over højderne du fandt i opgave 42. Du vælger selv hvor mange bins etc."
            ]
        },
        {
            "cell_type": "markdown",
            "metadata": {},
            "source": [
                "# Opgave 47\n",
                "Lav i streamlit en brugergrænseflade hvor du kan vælge hvor mange fair mønter (beskrives med $n$) du vil kaste samt hvor mange gange du vil gøre det (størrelse).\n",
                "Prøv at lave et plot hvor du på x-aksen har antal mønter, der viser krone. Dvs. værdien løber fra 0 til n. På y-aksen antallet af gange mønterne har vist det angive x kroner. "
            ]
        },
        {
            "cell_type": "markdown",
            "metadata": {},
            "source": [
                "# Opgave 48\n",
                "Du skal i denne applikation udforske unges rygevaner. Lav en app i streamlit til analysen. Opgaven forudsætter, at du allerede har øvet dig i at bruge numpy og matplotlib.  \n",
                "Start med at hente datasættet, der ligger under mappen \"data/48\" på github.\n",
                "Dataene ligger i en txt-fil kaldet smoking og består af 6 kolonner af tal:\n",
                "\n",
                "Kolonner:\n",
                "* alder – a positive integer (år)\n",
                "* FEV1 – målt liter (et udtryk for lungernes kapacitet. Jo højere, jo bedre)\n",
                "* højde – målt i inches\n",
                "* køn – binær (pige:  0, dreng:  1)\n",
                "* rygestatus – binær (ikke ryger:  0, ryger:  1)\n",
                "* vægt – målt i kg\n",
                "\n",
                "1. Find antallet af ryger og ikke rygere\n",
                "\n",
                "2. Find antallet rygende og ikke rygende unge fordel på køn.\n",
                "  \n",
                "3. Beregn den gennemsnitlige FEV1 værdi for ryger kontra ikke-rygere\n",
                "\n",
                "4. Beregn den gennemsnitlige vægt af drenge der ryger og drenge der ikke ryger og tilsvarende for piger. \n",
                "\n",
                "5. Tegn en graf der viser FEV1 værdier som funktion af alder (uafhængig af køn)  \n",
                "\n",
                "6. Undersøg og visualiser i et koordinatsystem om der er tegn på en sammenhæng mellem nogle af de givne variable, som du ikke har allerede har undersøgt. F.eks. vægt og rygerstatus, FEV1 og højde etc.\n",
                "\n",
                "7. Lav nu en funktion der givet alder, FEV1, højde, køn og vægt, forsøger at gætte hvorvidt den pågældende er ryger. Overvej styrker og svagheder ved din applikation. Overvej desuden hvilke informationer der måske ville være rare at have i fht at bestemme hvorvidt den pågældende var ryger eller ej.   \n",
                "\n",
                "I skal som en del af opgaven lave en applikation i streamlit, der formidler dataene på en let og tilgængelige måde. App'en skal understøtte følgende:\n",
                "\n",
                "a. I app'en skal der være mulighed for at vælge pige eller dreng eller begge to i en selektionsboks og herefter vises en graf med gennemsnitlige FEV1 værdier som funktion af alder\n",
                "\n",
                "b. Den skal tilsvarende kunne vise gennemsnitlige højde som funktion af alder (uafhængig af køn)\n",
                "\n"
            ]
        },
        {
            "cell_type": "markdown",
            "metadata": {},
            "source": [
                "# Opgave 49\n",
                "Zip funktionen minder lidt og at zippe en lynlås. Dvs. man sammenkæder elementer på en smart måde\n",
                "\n",
                "zip(iterator1, iterator2, iterator3 ...)\n",
                "\n",
                "Her vil iterator[n] hvor n løber fra 1,2,3..., blive sammenkædet.\n",
                "Se et par eksempler herunder og overvej hvad der sker:\n"
            ]
        },
        {
            "cell_type": "code",
            "execution_count": null,
            "metadata": {},
            "outputs": [],
            "source": [
                "languages = ['Java', 'Python', 'JavaScript']\n",
                "versions = [14, 3, 6]\n",
                "\n",
                "result = zip(languages, versions)\n",
                "print(list(result))\n",
                "\n",
                "# Output: [('Java', 14), ('Python', 3), ('JavaScript', 6)]\n",
                "\n",
                "#Syntax of zip()\n",
                "#The syntax of the zip() function is:\n",
                "#zip(*iterables)\n",
                "#zip() Parameters\n",
                "#Parameter\tDescription\n",
                "#iterables\tcan be built-in iterables (like: list, string, dict), or user-defined iterables\n",
                "#Recommended Reading: Python Iterators, __iter__ and __next__\n",
                "\n",
                "#zip() Return Value\n",
                "#The zip() function returns an iterator of tuples based on the iterable objects.\n",
                "\n",
                "#If we do not pass any parameter, zip() returns an empty iterator\n",
                "#If a single iterable is passed, zip() returns an iterator of tuples with each tuple having only one element.\n",
                "#If multiple iterables are passed, zip() returns an iterator of tuples with each tuple having elements from all the iterables.\n",
                "\n",
                "#Suppose, two iterables are passed to zip(); one iterable containing three and other containing five elements. Then, the returned iterator will contain three tuples. It's because the iterator stops when the shortest iterable is exhausted.\n",
                "# Example 1: Python zip()\n",
                "number_list = [1, 2, 3]\n",
                "str_list = ['one', 'two', 'three']\n",
                "\n",
                "# No iterables are passed\n",
                "result = zip()\n",
                "\n",
                "# Converting iterator to list\n",
                "result_list = list(result)\n",
                "print(result_list)\n",
                "\n",
                "# Two iterables are passed\n",
                "result = zip(number_list, str_list)\n",
                "\n",
                "# Example 2: Different number of iterable elements\n",
                "numbersList = [1, 2, 3]\n",
                "str_list = ['one', 'two']\n",
                "numbers_tuple = ('ONE', 'TWO', 'THREE', 'FOUR')\n",
                "\n",
                "# Notice, the size of numbersList and numbers_tuple is different\n",
                "result = zip(numbersList, numbers_tuple)\n",
                "\n",
                "# Converting to set\n",
                "result_set = set(result)\n",
                "print(result_set)\n",
                "\n",
                "result = zip(numbersList, str_list, numbers_tuple)\n",
                "\n",
                "# Converting to set\n",
                "result_set = set(result)\n",
                "print(result_set)"
            ]
        },
        {
            "cell_type": "markdown",
            "metadata": {},
            "source": [
                "\n",
                "Her følger nogle opgaver der skal træne dig i at bruge zip-funktionen:\n",
                "\n",
                "1. Lav først to lister bestående af byer og deres respektive postnumre, så de til hinanden tilhørende værdier står på de samme pladser i de respektive lister. Brug zip() og list() funktionerne til at lave en sammenkædet liste af tupler fra de to lister. Print den sammenkædet liste.\n",
                "\n",
                "2. Brug zip og dict funktioner til at lave en dictionary der har key-value fra de to lister i punkt 1.\n",
                "\n",
                "3. Brug zip, list og sorted funktioner til at lave en sorteret liste af tupler fra 1.\n",
                "\n",
                "4. Lav to lister af lister med lige mange lister i hver. Brug zip til at sammenkæde de enkelte lister i de to lister.\n",
                "\n",
                "5. Brug en for løkke, enumerate funktionen til at printe to ens-længdede lister der består af hhv. navne og aldre, så vi får :  0 navn alder, 1 navn alder, osv.\n",
                "\n",
                "6. Prøv at bruge zip på at sammenkæde mindst tre lister bestående af by, postnr og byens population.\n",
                "   \n",
                "7. Overvej selv et tilfælde hvor det kan være smart at bruge zip-funktionen "
            ]
        },
        {
            "cell_type": "markdown",
            "metadata": {},
            "source": [
                "# Opgave 50\n",
                "\n",
                "Her følger opgaver der skal træne dig i at lave simple lambda udtryk, som er anonyme funktioner, på formen:\n",
                "\n",
                "lambda argument_list: expression\n",
                "\n",
                "Herunder nogle eksempler:"
            ]
        },
        {
            "cell_type": "code",
            "execution_count": null,
            "metadata": {},
            "outputs": [],
            "source": [
                "\n",
                "lambda x: x #Eksempel 1\n",
                "\n",
                "lambda x: x + 1 #Eksempel 2\n",
                "\n",
                "add_one = lambda x: x + 1 #Eksempel 3\n",
                "\n",
                "full_name = lambda first, last: f'Full name: {first.title()} {last.title()}' # Eksempel 4\n",
                "full_name('Henrik', 'Sterner')\n",
                "#Output: 'Full name: Henrik Sterner'\n",
                "\n",
                "lambda x, y: x + y # Eksempel 5\n",
                "\n",
                "(lambda x: (x % 2 and 'odd' or 'even'))(3) #Eksempel 6"
            ]
        },
        {
            "cell_type": "markdown",
            "metadata": {},
            "source": [
                "\n",
                "Argumentlisten består af en kommaseperareret liste af argumenter og expression er et aritmetisk udtryk, der bruger argumentlisten.\n",
                "\n",
                "For alle øvelser herunder bedes I samtidig skrive den \"almindelige funktion\" med \"def ...\".\n",
                "0. Forstå eksemplerne ovenfor\n",
                "1. Skriv et lambda udtryk kaldet multi, der multiplicere to argumenter. \n",
                "2. Skriv et lambda udtryk, der adderer værdien 15 til sit argument. \n",
                "3. Skriv et lambda udtryk, der returnerer sand hvis argumentetet, som forventes at være en streng, starter med 'H' og falsk ellers. \n",
                "4. Skriv et lambda udtryk, der returnerer hvorvidt et argument er et tal eller ej.\n",
                "5. Skriv et lambda udtryk, der tjekker om et tal er lige eller ulige.\n",
                "6. Overvej et tilfælde hvor det kan være smart at bruge lamda udtryk\n",
                "   "
            ]
        }
    ],
    "metadata": {
        "interpreter": {
            "hash": "ce60f34a948200a2cfbca3c4a9bee46e7c34f26b258b4fab0bda251575f8f284"
        },
        "kernelspec": {
            "display_name": "Python 3.8.8 64-bit ('base': conda)",
            "name": "python3"
        },
        "language_info": {
            "codemirror_mode": {
                "name": "ipython",
                "version": 3
            },
            "file_extension": ".py",
            "mimetype": "text/x-python",
            "name": "python",
            "nbconvert_exporter": "python",
            "pygments_lexer": "ipython3",
            "version": "3.8.8"
        },
        "orig_nbformat": 4
    },
    "nbformat": 4,
    "nbformat_minor": 2
}
