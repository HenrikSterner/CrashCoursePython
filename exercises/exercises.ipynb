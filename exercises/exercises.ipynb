{
    "cells": [
        {
            "cell_type": "markdown",
            "source": [
                "# Opgave 1 (*)\r\n",
                "Lixtallet er et udtryk for en teksts læsbarhed. Formlen til at beregne\r\n",
                "LIX-tallet er givet ved\r\n",
                "$\\text{LIX} = \\frac{O}{P}+\\frac{L\\cdot 100}{O}$ hvor $O$ er antal ord\r\n",
                "i teksten, $P$ er antal punktummer i teksten og $L$ antal lange ord\r\n",
                "(over 6 bogstaver lange).\r\n",
                "\r\n",
                "Formlen kan altså forstås som antal ord per mellem hvert punktum lagt\r\n",
                "sammen med procentdelen af de lange ord i teksten. Man har så følgende\r\n",
                "skala til at vurdere LIX-tallet med:\r\n",
                "-   $\\text{LIX}\\geq 55$: Meget svær, faglitteratur på akademisk niveau,\r\n",
                "    lovtekster.\r\n",
                "\r\n",
                "-   $45\\leq\\text{LIX}< 55$: Svær, f.eks. saglige bøger,\r\n",
                "    populærvidenskabelige værker, akademiske udgivelser.\r\n",
                "\r\n",
                "-   $35\\leq\\text{LIX}< 45$: Middel, f.eks. dagblade og tidsskrifter.\r\n",
                "\r\n",
                "-   $25\\leq\\text{LIX}< 35$: Let for øvede læsere, f.eks.\r\n",
                "    ugebladslitteratur og skønlitteratur for voksne.\r\n",
                "\r\n",
                "-   $\\text{LIX}<25$: Let tekst for alle læsere, f.eks. børnelitteratur.\r\n",
                "\r\n",
                "1.  Lav et program, der bestemmer Lix-tallet af en tekststreng.\r\n",
                "    Programmet skal fortælle hvilket niveau teksten ligger på. Antag at\r\n",
                "    du får teksten i en string-variable.\r\n",
                "\r\n",
                "2.  Benyt din LIX-beregner på en tekst du skrev i folkeskolen og en\r\n",
                "    tekst, du har skrevet i gymnasiet (det kunne f.eks. være en dansk\r\n",
                "    stil)."
            ],
            "metadata": {}
        },
        {
            "cell_type": "markdown",
            "source": [
                "# Opgave 2 (*)\r\n",
                "Skriv et program der konstruerer 3 tekst variabler, som rummer teksterne\r\n",
                "“Der var engang”, “ en mand som” og “boede i en spand. Spanden var af\r\n",
                "ler”.\r\n",
                "\r\n",
                "-   Sammenkæd de tre tekststrenge via variablerne\r\n",
                "\r\n",
                "-   Bestem længden af hver af dem.\r\n",
                "\r\n",
                "-   Undersøg det andet bogstav i hver af dem\r\n",
                "\r\n",
                "-   Undersøg om to af variablerne er det samme\r\n",
                "\r\n",
                "-   Skriv hele teksten som versaler\r\n",
                "\r\n",
                "-   Lav en ny variable der er en delstreng af en af variablerne.\r\n",
                "\r\n",
                "-   Sammenflet de tre variabler så det første bog stav er fra den første\r\n",
                "    variable, den anden fra den anden osv.\r\n",
                "\r\n",
                "-   Undersøg hvor mange forekomster af e der er i teksten."
            ],
            "metadata": {}
        },
        {
            "cell_type": "markdown",
            "source": [
                "# Opgave 3 (*)\r\n",
                "Skriv et program, der generer multiplikationstabellen fra 1 til 10."
            ],
            "metadata": {}
        },
        {
            "cell_type": "markdown",
            "source": [
                "# Opgave 4 (*)\r\n",
                "Skriv et program, der finder det mindste hele tal n så n\\*n er større\r\n",
                "end 12000. Skriv dernæst et program, der finder det største hele tal n,\r\n",
                "så n\\*n\\*n er mindre 12000."
            ],
            "metadata": {}
        },
        {
            "cell_type": "markdown",
            "source": [
                "# Opgave 5 (*)\r\n",
                "1.  Lav en Basal Metabolic Rate (BMR) beregner, der fortæller hvor meget\r\n",
                "    energi du forbrænder i hviletilstand i løbet af en dag (kalorier).\r\n",
                "    Input er hvorvidt du er mand eller kvinder samt vægt (kg), alder (år), højde (cm) og\r\n",
                "    aktivitetsniveau. Formlen (kendt som Harris–Benedicts ligninger) og\r\n",
                "    er givet på følgende [side](https://en.wikipedia.org/wiki/Harris%E2%80%93Benedict_equation) samt aktivitetsniveauet er her: [side](https://www.bmi-calculator.net/bmr-calculator/harris-benedict-equation/). Du vælger selv hvilken variant af formlen, som du ønsker at implementere.\r\n",
                "2.  En Big Mac rummer ca 500 kalorier. Lav en omregner, der regner i Bic Macs\r\n"
            ],
            "metadata": {}
        },
        {
            "cell_type": "markdown",
            "source": [
                "# Opgave 6 (**)\r\n",
                "1.  Undersøg om en given tekststreng (string variable) udgør et validt\r\n",
                "    CPR-NR.\r\n",
                "\r\n",
                "2.  Skriv et program, der oplister alle CPR-numre. "
            ],
            "metadata": {}
        },
        {
            "cell_type": "markdown",
            "source": [
                "# Opgave 7 (*)\r\n",
                "\r\n",
                "1. Skriv et program, der finder alle de store bogstaver og små bogstaver i\r\n",
                "en streng.\r\n",
                "\r\n",
                "2. Skriv et program, der finder alle mellemrum\r\n",
                "\r\n",
                "3. Skriv et program, der undersøger hvor mange forskellige bogstaver to\r\n",
                "strenge har.\r\n",
                "\r\n",
                "4. Skriv et program, der erstatter alle bogstaver “i” med “k” i en streng.\r\n",
                "\r\n",
                "5. Skriv et program, der undersøger om en given delstreng er indeholdt i en\r\n",
                "anden streng"
            ],
            "metadata": {}
        },
        {
            "cell_type": "markdown",
            "source": [
                "# Opgave 8 (**)\r\n",
                "Givet to tekststrenge. Overvej forskellige måder til at undersøge om den\r\n",
                "ene er et plagiat af den anden."
            ],
            "metadata": {}
        },
        {
            "cell_type": "markdown",
            "source": [
                "# Opgave 9 (**)\r\n",
                "Skriv et program der generer et Haiku digt ud fra nogle fastsatte\r\n",
                "sætninger. Der er 17 stavelser i et Haiku digt fordelt på 5-7-5 i de tre\r\n",
                "linjer."
            ],
            "metadata": {}
        },
        {
            "cell_type": "markdown",
            "source": [
                "# Opgave 10 (*)\r\n",
                "Lav et tekstbaseret “sten-saks-papir”-spil.\r\n",
                "\r\n",
                "# Opgave 11 (*)\r\n",
                "Lav et tekstbaseret “Hang-man” spil\r\n",
                "\r\n",
                "# Opgave 12 (*)\r\n",
                "Lav et program, der undersøger om et givent password er et sikkert\r\n",
                "    password. Ved sikkert forstås, at det skal være minimum 8 bogstaver\r\n",
                "    langt samt indeholde både et stort og lille bogstav samt et tal. Du\r\n",
                "    må gerne udvide kriterierne.\r\n",
                "\r\n",
                "# Opgave 13 (*)\r\n",
                "1.  Lav et program der omregner fra grader til radianer eller omvendt.\r\n",
                "    Hint: $2\\cdot\\pi$ radianer svarer til 360 grader.\r\n",
                "\r\n",
                "2.  Givet en retvinkel trekant. Lav en trekantsberegner, der bestemmer\r\n",
                "    alle sider og vinkler i trekanten. Brug gerne matematikpakken i\r\n",
                "    Python:\r\n",
                "\r\n",
                "    ``` {.python language=\"Python\"}\r\n",
                "        import math as m\r\n",
                "        print(m.cos(m.pi)) # udskriver -1.0. Hvorfor mon?\r\n",
                "    ```\r\n",
                "    \r\n",
                "# Opgave 14 (**)\r\n",
                "Tilnærmelse af tallet kan gøres ved følgende formel\r\n",
                "$$\\pi = 3 + \\frac{4}{2\\cdot 3\\cdot 4}-\\frac{4}{4\\cdot 5\\cdot 6}+\\frac{4}{6\\cdot 7\\cdot 8}-\\ldots$$\r\n",
                "\r\n",
                "1.  Lav et program, der beregner en tilnærmelse af $\\pi$, hvor input er\r\n",
                "    antallet af brøkled i formlen.\r\n",
                "\r\n",
                "# Opgave 15 (*)\r\n",
                "1.  Lav et program, der finder alle a’er i en tekststreng.\r\n",
                "\r\n",
                "# Opgave 16 (*)\r\n",
                "1.  Undersøg om en tekststreng er et palindrom. Dvs. om tekststrengen\r\n",
                "    læses og skrives på samme måde forfra og bagfra.\r\n",
                "\r\n",
                "# Opgave 17 (*)\r\n",
                "1.  Konstruér et program der løser ligninger på formen $ax+b=c$. Input\r\n",
                "    er tallene $a,b$ og $c$."
            ],
            "metadata": {}
        },
        {
            "cell_type": "markdown",
            "source": [
                "# Opgave 18 (*)\r\n",
                "Skriv et program, der fylder en liste med heltal i en tilfældig række. Bestem selv hvilke.\r\n",
                "1. Sorter listen.\r\n",
                "2. Byt om på rækkefølgen af tal når den er sorteret\r\n",
                "3. Indsæt et element midt i listen\r\n",
                "4. Udvid programmet så du kan tilføje et element til listen ved brug af input fra brugeren\r\n",
                "\r\n",
                "# Opgave 19 (*)\r\n",
                "Skriv et program, der tager en tekststreng indlæst i en variable. Teksten skal bestå af mindst\r\n",
                "100 ord og split ordene op i en liste ved brug af split-funktionen.\r\n",
                "1. Tæl antallet af kommaer og punktummer\r\n",
                "2. Find det ord der forekommer flest gange\r\n",
                "3. Lav en liste der viser hvor mange gange hvert ord forekommmer\r\n",
                "\r\n",
                "# Opgave 20 (*)\r\n",
                "Skriv et program der kan bruges til Lotto, hvor der genereres 7 tilfældige tal. De skal være\r\n",
                "forskellige (mellem 1 og 40) og returneres i stigende rækkefølge.\r\n",
                "\r\n",
                "# Opgave 21 (*)\r\n",
                "Skriv en funktion, der undersøger om en given delliste af tal er indeholdt i en liste af tal. Dellisten\r\n",
                "skal optræde fra start til slut i listen. Dvs. [2,3] er en delliste af [1,2,3,4] men [1,4] er ikke.\r\n",
                "\r\n"
            ],
            "metadata": {}
        },
        {
            "cell_type": "markdown",
            "source": [
                "# Opgave 22 (**)\r\n",
                "Betragt følgende dictionary nedenfor.\r\n",
                "1. Gennemløb løn og udskriv navn og løn for hver person på en linje for sig.\r\n",
                "2. Undersøg om \"Bente\"findes i løn.\r\n",
                "3. Hent og udskriv kun nøgler af løn.\r\n",
                "4. Hent og udskriv kun værdierne af løn.\r\n",
                "5. Bestem gennemsnitslønnen.\r\n",
                "6. Bestem den hyppigst forekomne lønindkomst.\r\n",
                "7. Bestem mindste- og størstelønnen i løn.\r\n",
                "8. Undersøg programmatisk om der findes flere personer med samme løn.\r\n"
            ],
            "metadata": {}
        },
        {
            "cell_type": "code",
            "execution_count": null,
            "source": [
                "løn={’Niels’:85000,’Peter’:40000,’Jakob’:90000,’Poul’:100000,’Dorte’:40000}"
            ],
            "outputs": [],
            "metadata": {}
        },
        {
            "cell_type": "markdown",
            "source": [
                "# Opgave 23 (**)\r\n",
                "\r\n",
                "Skriv et program, der på baggrund af en tekst, konstruerer en dictionary kaldt bogstav, så\r\n",
                "f.eks. bogstav[’a’] er lig med antallet af a’er i teksten, bogstav[’b’] er lig med antallet af\r\n",
                "b’er osv.\r\n"
            ],
            "metadata": {}
        },
        {
            "cell_type": "markdown",
            "source": [
                "# Opgave 24 (**)\r\n",
                "Skriv et program der bruger en dictionary til at rumme en filmdatabase. Dictionary skal rumme\r\n",
                "filmens titel, produktionsår, og instruktør samt en genre.\r\n",
                "Du afgør selv strukturen.\r\n",
                "1. Lav en funktion der afgør om en given film eksisterer i biblioteket fra forrige opgave.\r\n",
                "2. Lav en funktion der sletter en given film fra databasen\r\n",
                "3. Lav en funktion der tilføjer en ny film til databasen.\r\n",
                "4. Lav en funktion der opdaterer en egenskab ved en film. Dvs. instruktør, titel, genre eller\r\n",
                "produktionsår."
            ],
            "metadata": {}
        },
        {
            "cell_type": "markdown",
            "source": [
                "# Opgave 25 (***)\r\n",
                "1. Skriv et program, der sorterer en liste af tal vha. bubblesort-algoritmen.\r\n",
                "2. Skriv et program, der sorterer en liste af tal vha. mergesort-algoritmen.\r\n",
                "3. Afprøv dine sorteringsalgoritmer på lister med mange tusinde tal. Hvilken en af algoritmerne\r\n",
                "er mon hurtigst?\r\n"
            ],
            "metadata": {}
        },
        {
            "cell_type": "markdown",
            "source": [
                "# Opgave 26 (**)\r\n",
                "\r\n",
                "1. Skriv et program der afgør om et givent tal er et primtal.\r\n",
                "2. Undersøg hvad der er det største primtal, som går op i tallet 600851475143"
            ],
            "metadata": {}
        },
        {
            "cell_type": "markdown",
            "source": [
                "# Opgave 27 (**)\r\n",
                "Lav et af følgende brætspil\r\n",
                "1.  Kryds og bolle.\r\n",
                "\r\n",
                "2.  ”Fire-på-stribe”."
            ],
            "metadata": {}
        },
        {
            "cell_type": "markdown",
            "source": [
                "# Opgave 28 (***)\r\n",
                "\r\n",
                "TILLYKKE! Du er blevet ansat som ledende data-analytiker i firmaet DataSukkertop, som skal udvikle software til analyse af sociale medier.\r\n",
                "DataSukkertop tror meget på at udvikle alting fra bunden, så det første du skal gøre er at udvikle en simpel prototype på et dataanalyse værktøj i et selvvalgt programmeringssprog.\r\n",
                "VELKOMMEN ombord og held og lykke. Du må have jeans på om fredagen og toillettet er nede for enden af gangen til højre :-).\r\n",
                "\r\n",
                "1.\tStart med at lave en selvvalgt datastruktur (såsom en dictionary, flerdimensionelt array, lister af objekter etc), som kan håndtere følgende navne med unikke id. Herunder er et eksempel på hvordan det kunne gøres vha dictionaries:\r\n",
                "\r\n",
                "```\r\n",
                "brugere = [\r\n",
                "    {\"id\":0, \"name\": \"Henrik\"},\r\n",
                "    {\"id\":1, \"name\": \"Peter\"},\r\n",
                "    {\"id\":2, \"name\": \"Jakob\"},\r\n",
                "    {\"id\":3, \"name\": \"Lukas\"}\r\n",
                "]\r\n",
                "```\r\n",
                "Udvid selv dictionary med mindst 10 venner.\r\n",
                " \r\n",
                "2.\tFølgende array illustrerer vennerelationerne mellem de enkelte personer fra punkt 1 (f.eks. er 0 og 1 venner). \r\n",
                "```\r\n",
                "venner = [(0,1),(0,3),(1,2)]\r\n",
                "```\r\n",
                "Udvid med flere vennerelationer. Prøv at omsætte array til et dictionary.\r\n",
                "\r\n",
                "3.\tSkriv noget kode der finder det samlede antal relationer\r\n",
                "\r\n",
                "4.\tFind det gennemsnitlige antal relationer\r\n",
                "\r\n",
                "5.\tDin chef vil gerne have tilføjet en funktion “Folk du måske kender”. F.eks. i punkt 2. ses, at 0 har både 1 og 2, som venner. Det betyder, at der måske er en chance for at 1 og 2 og så kender i hinanden. Hvordan ville du gøre det?\r\n",
                "\r\n",
                "6. Overvej noget kode der giver dig et bud på venner som en id måske kender.\r\n",
                "\r\n",
                "7.\tYdermere vil din chef gerne have visualiseret vennerelationer i en graf, hvor id udgør knuder og vennerelationer er streger fra knude til knude. Har du forslag til hvordan man kunne gøre det? Brug gerne pyp5.js eller lignende til at visualisere.\r\n",
                "\r\n",
                "8. Nu udvides det sociale medie med interesser ala følgende:\r\n",
                "\r\n",
                "```\r\n",
                "interesser=[\r\n",
                "    (0,\"Film\"),(0,\"Bøger\"),(1,\"Film\"),(2,\"Bøger\"),(3,\"Film\"),(3,\"Sport\"),\r\n",
                "    ]\r\n",
                "```\r\n",
                "Skriv en funktion, der givet en interesse returnerer id'er som har den interesse.\r\n",
                "\r\n",
                "9. Skriv en funktion, der givet en bruger-id finder en anden bruger som har flest af de samme interesser.\r\n"
            ],
            "metadata": {}
        },
        {
            "cell_type": "markdown",
            "source": [
                "# Opgave 29 (***)\r\n",
                "\r\n",
                "Et klassisk problem indenfor naturlig sprog processering handler om at undersøge hvor negativt eller positivt ladet en given sætning er. I skal i det følgende prøve at lave en primitiv algoritme, der returner et tal mellem 0 og 1 som indikerer om sætningen er positivt, neutral eller negativ.\r\n",
                "Vi afprøver jeres algoritme på Trumps twitter data: http://www.trumptwitterarchive.com/. Overvej undervejs hvor det kan være en ide at bruge exceptions.\r\n"
            ],
            "metadata": {}
        },
        {
            "cell_type": "markdown",
            "source": [
                "# Opgave 30 (***)\r\n",
                "I skal her lave en algoritme, som tæller de x mest forekomne ord i en tekst og viser dem på skærmen. Vi bruger Trumps twitter arkiv igen. Overvej undervejs hvor det kan være en ide at bruge exceptions."
            ],
            "metadata": {}
        },
        {
            "cell_type": "markdown",
            "source": [
                "# Opgave 31 (***)\r\n",
                "\r\n",
                "Benfords lov eller princip fortæller noget om hvilke tal, der hyppigst vil forekomme, ofte i lister fra dagligdagen, såsom husnumre, priser, indbyggertal, længder på floder, aktiekurser etc.\r\n",
                "Formlen er givet ved: $$P(d)=\\log(d+1)-\\log(d),$$ hvor P er sandsynligheden for at det ledende tal er d og log er 10-tals logaritmen.\r\n",
                "\r\n",
                "Skriv et program der kan teste Benfords lov for forskellige data. Prøv af på forskellige datasæt. Eksempelvis indbyggertal i byerne i Danmark (se https://www.bolius.dk/de-stoerste-byer-i-danmark-27946) eller ordskyen I (muligvis har) lavet tidligere.  \r\n"
            ],
            "metadata": {}
        },
        {
            "cell_type": "markdown",
            "source": [
                "# Opgave 32 (*)\r\n",
                "Brug exceptions til at skrive en funktion, der tager en streng splitter den op og ved hjælp af execeptions undersøger om input består af præcis 3 elementer: Tal Operator Tal.\r\n",
                "Operator er de klassiske fire regnearter. Husk at du ikke må dele med 0.\r\n",
                "\r\n",
                "Udvid programmet, så du kan operere på flere tal.\r\n"
            ],
            "metadata": {}
        },
        {
            "cell_type": "markdown",
            "source": [
                "# Opgave 33 (**)\r\n",
                "Herunder nogle små opgaver hvor du skal skrive en funktioner, der løser problemet. Løs så mange du kan (nå):\r\n",
                "\r\n",
                "1. Skriv en funktion der finder det største tal af tre givne tal som argumenter.\r\n",
                "2. Skriv en funktion der summer alle tal i en liste.\r\n",
                "3. Skriv en funktion, der bytter om på en given liste.\r\n",
                "4. Skriv en funktion, der undersøger om et tal er indenfor et givent interval.\r\n",
                "5. Skriv en funktion, der tager en liste af tal og returnerer en ny liste af unikke elementer.\r\n",
                "6. Skriv en funktion, der givet en liste kun printer de lige tal.\r\n"
            ],
            "metadata": {}
        },
        {
            "cell_type": "markdown",
            "source": [
                "# Opgave 34 (**)\r\n",
                "Denne opgave træner dig i at bruge tupler i Python. Løs så mange du kan:\r\n",
                "\r\n",
                "1. Skriv et program der opretter en tuple.\r\n",
                "2. Skriv et program der opretter en tuple med forskellige typer data.\r\n",
                "3. Skriv et program, der opretter en tuple og printer den.\r\n",
                "4. Skriv et program der konverterer en tuple til en streng.\r\n",
                "5. Skriv et program, der tjekker om et element eksisterer i en tuple.\r\n",
                "6. Skriv et program, der finder længden af en tuple."
            ],
            "metadata": {}
        },
        {
            "cell_type": "markdown",
            "source": [
                "# Opgave 35 (**)\r\n",
                "Denne opgave træner dig i simpel brug af lister. Prøv at undgå at bruge eksisterende funktioner.\r\n",
                "\r\n",
                "1. Byt om på rækkefølgen i en liste. Så sidste element er det første.\r\n",
                "2. Sammenkæd to lister.\r\n",
                "3. Givet en liste af tal returner de kvadreret tal.\r\n",
                "4. Sammenkæd to lister af strenge, så første element i den første liste og første element i den anden liste konkatineres/sættes sammmen så de er første element i den nye liste.\r\n",
                "5. Givet to lister af tal og af samme længde. Iterer over dem, så første element i den ene liste og første element i den anden printes på samme linje osv.\r\n",
                "6. Fjern tomme strenge i en liste af strenge.\r\n",
                "7. Givet en liste med flere værdier af 20. Find dem men kun erstat den sidste med 200."
            ],
            "metadata": {}
        },
        {
            "cell_type": "markdown",
            "source": [
                "# Opgave 36 (**)\r\n",
                "Herunder nogle simple opgaver om brugen af strenge. Lav så mange du kan nå. Det er god træning og prøv at undgå at bruge prædefinerede metoder.\r\n",
                "\r\n",
                "1. Skriv en funktion der beregner længden af en streng.\r\n",
                "2. Skriv en funktion der beregner antallet af karakterer i en streng.\r\n",
                "3. Skriv en funktion der tager en sætning i form af en streng og splitter den op, så du får en liste af ord.\r\n",
                "4. Skriv en funktion, der kan indsætte et bogstav på et bestemt index og returnere den nye streng.\r\n",
                "5. Skriv en funktion, der tager en liste af strenge og finder den længste.\r\n",
                "6. Skriv en funktion, der fjerner det i'te element i en ikke tom streng.\r\n",
                "7. Skriv to funktioner. En der krypterer en streng og en anden der dekrypterer. Du bestemmer selv krypteringsmetoden. Den må gerne være meget simpel. \r\n",
                "\r\n"
            ],
            "metadata": {}
        },
        {
            "cell_type": "markdown",
            "source": [
                "# Opgave 37 (*)\r\n",
                "Denne øvelser træner dig i at bruge pakker og moduler:\r\n",
                "\r\n",
                "1. Forklar forskellen på moduler og pakker\r\n",
                "2. Forklar forskellen på \"import\", \"from X import y\"\r\n",
                "3. Hvad er \"pip\" og hvor kan man tilgå den?\r\n",
                "4. Lav en funktion i en fil og importer den inden i en anden funktion. Kald funktionen fra denne fil.\r\n",
                "5. Prøv at importer alle funktioner fra standard biblioteket \"time\"\r\n",
                "6. Prøv at importere funktioner fra \"math\" biblioteket og kald dem."
            ],
            "metadata": {}
        },
        {
            "cell_type": "markdown",
            "source": [
                "# Opgave 38 (**)\r\n",
                "Herunder nogle små opgaver om objekt orienteret programmering. Forklar med eksempler og kode.\r\n",
                "\r\n",
                "1. Beskriv relationen mellem et objekt og dens definerende klasse\r\n",
                "2. Hvordan defineres en klasse?\r\n",
                "3. Hvordan laves et objekts reference variable\r\n",
                "4. Hvordan konstrueres et objekt\r\n",
                "5. Hvad er forskellen mellem konstruktøren og metoder?\r\n",
                "6. Hvordan kaldes en metode fra en klasse?\r\n",
                "7. Opret en klasse for en cirkel. Den skal have et centrum (x,y) og en\r\n",
                "radius som data. Klassen skal have en metode der printer klassens\r\n",
                "attributter ud.\r\n",
                "8. Opret en klasse for en linje i planen. Den skal have en hældning og en\r\n",
                "skæring med y-aksen. Klassen skal have en metode der printer klassens\r\n",
                "attributter ud.\r\n",
                "9. Udvid klasserne i de foregående øvelser med konstruktører så de kan\r\n",
                "oprette med argumenter. For cirkel skal det være radius og centrum. For\r\n",
                "linjen skal det være hældningstal og skæring med y-aksen.\r\n",
                "10. Udvid linjens klasse så den rummer en konstruktør der tager fire\r\n",
                "talværdier svarende til (x1,y1) og (x2,y2).\r\n",
                "11. Udvid cirklen med to metoder. En der beregner areal af cirklen og en\r\n",
                "anden der beregner omkredsen.\r\n",
                "12. Forklar med nogle små eksempler hvad der forstås ved nedarvning, indkapsling, abstraktion samt polymorfisme?\r\n"
            ],
            "metadata": {}
        },
        {
            "cell_type": "markdown",
            "source": [
                "# Opgave 39\r\n",
                "En bilforhandler skal ha nyt it-system, der håndterer nye og solgte biler. De sælger kun benzinbiler fra Mercedes, hybridbiler BMW og el-biler fra VW.\r\n",
                "\r\n",
                "1. Lav en klasse for bil med relevante attributter herunder nummerplader.\r\n",
                "2. Lav en klasse for hver af de tre bilmærker der arver fra bil-klassen i 1. Illustrer med et klassediagram i UML.\r\n",
                "3. Giv de tre bil-klasser nogle forskellige attributter og metoder, der gør det muligt at håndtere at de køre forskellig på en liter benzin/el og at de accellerer og har forskellige tophastigheder.\r\n",
                "4. Opret biler af være type og gem dem i en fælles liste.\r\n",
                "5. Løb listen igennem og udprint deres nummerplader.\r\n",
                "6. Overvej hvordan du har brugt principperne fra objektorienteret programmering i løsningen af de fem punkter.\r\n"
            ],
            "metadata": {}
        },
        {
            "cell_type": "markdown",
            "source": [
                "# Opgave 40\r\n",
                "\r\n",
                "En Zoologisk have skal have nyt it-system til at håndtere de forskellige dyr og det er din opgave implementere det.\r\n",
                "Systemet skal rumme mulighed for at håndtere hvornår og hvad de spiser, deres køn og deres alder samt nogle andre attributter, som du selv kan vælge.\r\n",
                "\r\n",
                "1. Lav en superklasse der hedder Dyr. Implementer forskellige metoder, der opererer på attributterne. F.eks. ændre tidpunkt for hvornår de sidst har spist, ændre deres alder etc.\r\n",
                "2. Lav hernæst klasser for giraffer, zebraer, aber og flodheste.\r\n",
                "3. Illustrer systemet med et klassediagram.\r\n",
                "4. Zoologisk have udvider med forskellige abe arter (gorillaer, chimpanser og orangutaner). Udvid systemet og klasseidagrammet så det kan håndtere disse forskellige aber, så de får navne og alder m.m. \r\n",
                "5. Opret nogle forskellige aber og sæt dem i en liste. Print deres alder og navn.\r\n",
                "6. Overvej hvordan du har brugt principperne fra objektorienteret programmering."
            ],
            "metadata": {}
        },
        {
            "cell_type": "markdown",
            "source": [
                "# Opgave 41\r\n",
                "\r\n",
                "I det følgende skal vi se på hvordan man kan lave webapps i Python. Vi bruger biblioteket \"streamlit\", som man IKKE bruger i jupyter, men skal skrive i py-filer for. Start med at installere det:\r\n",
                "\r\n",
                "```\r\n",
                "pip install streamlit\r\n",
                "```\r\n",
                "Prøv nu at skrive følgende i kommandoprompt i vscode med \"streamlit run filnavn.py\" hvor filnavn.py er navnet på filen med følgende indhold:\r\n",
                "```python\r\n",
                "import streamlit as st\r\n",
                "# Henter navn fra tekstboks\r\n",
                "name = st.text_input(\"Navn\", \"Skriv det her ...\")\r\n",
                "# printer navn...\r\n",
                "if(st.button('OK')):\r\n",
                "    result = name.title()\r\n",
                "    st.text(result)\r\n",
                "```\r\n",
                "Du skulle gerne få et link til en lokal url, hvor resultatet vises som en webside. Hvis du vil ud af programmet i kommandoprompt så tryk Ctrl+c.\r\n",
                "Under exercises ligger flere eksempler på gui-elementer man kan indsætte.\r\n",
                "Prøv nu at lave følgende små webapplikationer:\r\n",
                "\r\n",
                "1. En webapp der tager fornavn og efternavn som tekstfelter og printer det samlede navn, når du trykker.\r\n",
                "2. En promilletjekker, der undersøger hvor fuld du er.\r\n",
                "3. En BMI-beregner der fortæller om du er undervægtig, normal eller overvægtig.\r\n",
                "\r\n",
                "    "
            ],
            "metadata": {}
        },
        {
            "cell_type": "markdown",
            "source": [
                "# Opgave 42 (***)\r\n",
                "I den følgende opgave skal du arbejde med aktieanalyse og visualisering. Afprøv først koden herunder og overvej hvad den gør (koden er også tilgængelig i biblioteket gui_streamlit under navnet stockchart.py). Du skal særligt fokusere på den sidste del hvor der står \"Her skal du til at skrive noget kode\". I de to lister til sidst i koden er gemt åbne og lukke kursen.\r\n",
                "\r\n",
                "1. Skriv funktioner der finder top og bund for åbningskursen. Skriv dem ud vha. streamlit og hvornår de fandt sted.\r\n",
                "2. Skriv funktioner der finder max, min samt den gennemsnitlige forskel mellem åbne og lukke kursen. Skriv dem ud vha. streamlit og hvornår de fandt sted.\r\n",
                "3. Beregn det 200 dages glidende gennemsnit for åbningskursen. Skriv dem ud vha. streamlit og hvornår de fandt sted.\r\n",
                "4. Lav en graf der illustrerer det 200 dages glidende gennemsnit.\r\n",
                "5. Hvis åbningskursen i dag ligger over det glidende gennemsnit så er det en tommelfingerregel, der siger at aktien har en opadgående eller nedadgående tendens. Udskriv hvorvidt man bør købe eller ej.\r\n",
                "6. Beregn nu det såkaldte RSI index, som er begreb, der bruges til at afgøre om aktien er overkøbt eller oversolgt:\r\n",
                "   1. Beregn summen af kursændringerne for de seneste 9 dage, hvor kursen har lukket højere end den foregående dag, og divider dette tal med 9. Dette tal kaldes GnsOp.\r\n",
                "   2. Beregn summen af kursændringerne for de seneste 9 dage, hvor kursen har lukket lavere end den foregående dag, og divider dette tal med 9. Dette tal kaldes GnsNed.\r\n",
                "   3. Divider GnsOp med GnsNed, og læg 1 til.\r\n",
                "   4. Divider 100 med tallet i (3).\r\n",
                "   5. Træk tallet i (4) fra 100. Dette tal er RSI-værdien.\r\n",
                "   6. RSI = 100 – (100 / 1 + RS )\r\n",
                "7. Udskriv RSI på skærmen og hvad status for aktien er. Hvis RS nærmer sig 30 er den oversolgt, hvis den nærmer sig 70 er den overkøbt.\r\n"
            ],
            "metadata": {}
        },
        {
            "cell_type": "code",
            "execution_count": null,
            "source": [
                "from pandas.core.indexes.datetimes import date_range #importere en dataframe, som kan behandle data\r\n",
                "import streamlit as st #gui api\r\n",
                "from datetime import date #dato og tid\r\n",
                "import yfinance as yf #api til at hente data\r\n",
                "import matplotlib.pyplot as plt #api til at plotte grafer\r\n",
                "\r\n",
                "START = \"2015-01-01\"\r\n",
                "TODAY = date.today().strftime(\"%Y-%m-%d\")\r\n",
                "\r\n",
                "st.title('Stock Data Visualizer')\r\n",
                "stocks = ('GOOG', 'AAPL', 'MSFT', 'GME')\r\n",
                "selected_stock = st.selectbox('Select stock', stocks)\r\n",
                "\r\n",
                "@st.cache\r\n",
                "def load_data(ticker):\r\n",
                "    data = yf.download(ticker, START, TODAY)\r\n",
                "    data.reset_index(inplace=True)\r\n",
                "    return data\r\n",
                "   \r\n",
                "data_load_state = st.text('Loading data...')\r\n",
                "data = load_data(selected_stock)\r\n",
                "data_load_state.text('Loading data... done!')\r\n",
                "\r\n",
                "st.subheader('Raw data')\r\n",
                "st.write(data.tail())\r\n",
                "\r\n",
                "# Kolonne navne er [index,Date,Open,High,Low,Close, Adj Close, Volume]\r\n",
                "# Her skal du til at skrive noget kode\r\n",
                "opendata = data[\"Open\"].tolist()\r\n",
                "closedata = data[\"Close\"].tolist()\r\n",
                "\r\n",
                "plt.plot(opendata)\r\n",
                "plt.ylabel('Open data')\r\n",
                "plt.show()\r\n",
                "st.pyplot(plt)"
            ],
            "outputs": [],
            "metadata": {}
        },
        {
            "cell_type": "markdown",
            "source": [
                "# Opgave 43\r\n",
                "\r\n",
                "Herunder nogle grundlæggende øvelser i brugen af biblioteket numpy. Kræver det er installeret for at kunne køre (men det er inkluderet i Ananconda):\r\n",
                "\r\n",
                "a. Importer numpy og udprint versionen af det.\r\n",
                "\r\n",
                "b. Opret en vektor med 10 elementer.\r\n",
                "\r\n",
                "c. Opret en vektor med 10 elementer. På 5'te plads skal der være et 1'tal.\r\n",
                "\r\n",
                "d. Opret en vektor med elementer mellem 10 og 49 (vink: brug arange)\r\n",
                "\r\n",
                "e. Opret en 3x3 matrix med værdier fra 0 til og med 8.\r\n",
                "\r\n",
                "f. Find index på de elementer der ikke er 0 i [1,2,0,4,5,3] (vink: brug nonzero metode).\r\n",
                "\r\n",
                "g. Opret et 3x3x3 array med tilfældige værdier (vink: brug np.random.random).\r\n",
                "\r\n",
                "h. Opret en vektor af størrelsen 30 og find gennemsnitsværdien af de enkelte elementer.\r\n",
                "\r\n",
                "i. Multiplicer en 5x3 matrix med en 3x2 matrix (vink brug np.dot).\r\n",
                "\r\n",
                "j. Sum alle elementer i vektoren h.\r\n"
            ],
            "metadata": {}
        },
        {
            "cell_type": "markdown",
            "source": [
                "# Opgave 44\r\n",
                "\r\n",
                "Registrer højden på alle i nærheden af dig. Skriv det ind i en .txt fil ved navn 'height.txt' i følgende format:\r\n",
                "højde køn. Køn angiver 0 eller 1 afhængig af om man der mand eller kvinde. F.eks. indikerer nedenstående, at der er tale om en kvinde med højden 185 cm og en mand af højden 187 cm.\r\n",
                "185 1\r\n",
                "187 0\r\n",
                "\r\n",
                "Hvis du ikke har nogle data kan du evt. bare fylde nogle værdier ud selv.\r\n",
                "\r\n",
                "a.  I samme bibliotek laves nu en python fil og du indlæser med \r\n",
                "´´´python\r\n",
                "import numpy as np\r\n",
                "data = np.loadtxt(\"height.txt\")\r\n",
                "´´´\r\n",
                "\r\n",
                "b. Prøv at udprinte data på skærmen.\r\n",
                "\r\n",
                "c. Bestem nu gennemsnitshøjden for kvinder og gennemsnitshøjden for mænd.\r\n",
                "\r\n",
                "d. Bestem nu hvor høj den højeste kvinde og mand er.\r\n",
                "\r\n",
                "e. Bestem hyppigheden af de enkelte højder.\r\n",
                "\r\n",
                "f. Bestem middeltallet.\r\n",
                "\r\n",
                "g. Bestem øvre og nedre kvartil samt medianen."
            ],
            "metadata": {}
        },
        {
            "cell_type": "markdown",
            "source": [],
            "metadata": {}
        }
    ],
    "metadata": {
        "orig_nbformat": 4,
        "language_info": {
            "name": "python",
            "version": "3.8.8",
            "mimetype": "text/x-python",
            "codemirror_mode": {
                "name": "ipython",
                "version": 3
            },
            "pygments_lexer": "ipython3",
            "nbconvert_exporter": "python",
            "file_extension": ".py"
        },
        "kernelspec": {
            "name": "python3",
            "display_name": "Python 3.8.8 64-bit ('base': conda)"
        },
        "interpreter": {
            "hash": "ce60f34a948200a2cfbca3c4a9bee46e7c34f26b258b4fab0bda251575f8f284"
        }
    },
    "nbformat": 4,
    "nbformat_minor": 2
}